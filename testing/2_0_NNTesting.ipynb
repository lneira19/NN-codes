{
  "cells": [
    {
      "cell_type": "markdown",
      "metadata": {
        "id": "Tvh8vl7RxDXb"
      },
      "source": [
        "### Librerías"
      ]
    },
    {
      "cell_type": "code",
      "execution_count": 1,
      "metadata": {
        "id": "DjguZ-4dsVNu"
      },
      "outputs": [],
      "source": [
        "# Librerías generales\n",
        "\n",
        "import numpy as np\n",
        "import os\n",
        "import matplotlib.pyplot as plt\n",
        "import pandas as pd\n",
        "import pickle\n",
        "import cv2"
      ]
    },
    {
      "cell_type": "code",
      "execution_count": 4,
      "metadata": {
        "id": "8yryE-uP2NK-"
      },
      "outputs": [],
      "source": [
        "# Librerías para entrenamiento\n",
        "\n",
        "D"
      ]
    },
    {
      "cell_type": "code",
      "execution_count": 2,
      "metadata": {},
      "outputs": [],
      "source": [
        "from keras.models import Sequential, Model\n",
        "from keras.layers import Dense, Dropout, BatchNormalization, Flatten, Conv2D, MaxPool2D, GlobalAveragePooling2D, Activation\n",
        "from keras.optimizers import SGD, Adam, RMSprop\n",
        "from keras.regularizers import l1, l2\n",
        "from keras.constraints import MaxNorm\n",
        "from keras.callbacks import ReduceLROnPlateau, EarlyStopping, ModelCheckpoint, TensorBoard"
      ]
    },
    {
      "cell_type": "markdown",
      "metadata": {
        "id": "uC_aWT25v6UF"
      },
      "source": [
        "### Lectura de datos utilizados para el entrenamiento del modelo"
      ]
    },
    {
      "cell_type": "code",
      "execution_count": null,
      "metadata": {
        "colab": {
          "base_uri": "https://localhost:8080/"
        },
        "id": "YsvoyiTzs2Hh",
        "outputId": "03a34517-4976-4d65-b185-e03eacb33c61"
      },
      "outputs": [
        {
          "name": "stdout",
          "output_type": "stream",
          "text": [
            "/content/drive/MyDrive/Colab Notebooks/Redes Neuronales/dl-itba-cifar-100-2024-q-1/coarse_label_names.pck\n",
            "/content/drive/MyDrive/Colab Notebooks/Redes Neuronales/dl-itba-cifar-100-2024-q-1/x_test.npy\n",
            "/content/drive/MyDrive/Colab Notebooks/Redes Neuronales/dl-itba-cifar-100-2024-q-1/fine_label_names.pck\n",
            "/content/drive/MyDrive/Colab Notebooks/Redes Neuronales/dl-itba-cifar-100-2024-q-1/x_train.npy\n",
            "/content/drive/MyDrive/Colab Notebooks/Redes Neuronales/dl-itba-cifar-100-2024-q-1/y_train_fine.npy\n",
            "/content/drive/MyDrive/Colab Notebooks/Redes Neuronales/dl-itba-cifar-100-2024-q-1/y_train_coarse.npy\n"
          ]
        }
      ],
      "source": [
        "for dirname, _, filenames in os.walk('/content/drive/MyDrive/Colab Notebooks/Redes Neuronales/dl-itba-cifar-100-2024-q-1'):\n",
        "    for filename in filenames:\n",
        "        print(os.path.join(dirname, filename))"
      ]
    },
    {
      "cell_type": "code",
      "execution_count": null,
      "metadata": {
        "id": "cX5tYxTOtQGf"
      },
      "outputs": [],
      "source": [
        "x_train = np.load(\"/content/drive/MyDrive/Colab Notebooks/Redes Neuronales/dl-itba-cifar-100-2024-q-1/x_train.npy\")\n",
        "\n",
        "y_train_fine = np.load(\"/content/drive/MyDrive/Colab Notebooks/Redes Neuronales/dl-itba-cifar-100-2024-q-1/y_train_fine.npy\")\n",
        "\n",
        "y_train_coarse = np.load(\"/content/drive/MyDrive/Colab Notebooks/Redes Neuronales/dl-itba-cifar-100-2024-q-1/y_train_coarse.npy\")\n",
        "\n",
        "with open(\"/content/drive/MyDrive/Colab Notebooks/Redes Neuronales/dl-itba-cifar-100-2024-q-1/fine_label_names.pck\", \"rb\") as f:\n",
        "    labels_fine = pickle.load(f)\n",
        "f.close()\n",
        "\n",
        "with open(\"/content/drive/MyDrive/Colab Notebooks/Redes Neuronales/dl-itba-cifar-100-2024-q-1/coarse_label_names.pck\", \"rb\") as f:\n",
        "    labels_coarse = pickle.load(f)\n",
        "f.close()"
      ]
    },
    {
      "cell_type": "code",
      "execution_count": null,
      "metadata": {
        "colab": {
          "base_uri": "https://localhost:8080/"
        },
        "id": "kVJ61Zy8t2Cj",
        "outputId": "7f1d594d-202a-44c5-e412-0060e011a6ec"
      },
      "outputs": [
        {
          "name": "stdout",
          "output_type": "stream",
          "text": [
            "Dimensiones de x_train: (50000, 32, 32, 3)\n",
            "Dimensiones de y_train_fine: (50000,)\n",
            "Dimensiones de y_train_coarse: (50000,)\n",
            "Dimensiones de labels_fine: 100\n",
            "Dimensiones de labels_coarse: 20\n"
          ]
        }
      ],
      "source": [
        "print(f'Dimensiones de x_train: {x_train.shape}')\n",
        "print(f'Dimensiones de y_train_fine: {y_train_fine.shape}')\n",
        "print(f'Dimensiones de y_train_coarse: {y_train_coarse.shape}')\n",
        "print(f'Dimensiones de labels_fine: {len(labels_fine)}')\n",
        "print(f'Dimensiones de labels_coarse: {len(labels_coarse)}')"
      ]
    },
    {
      "cell_type": "code",
      "execution_count": null,
      "metadata": {
        "colab": {
          "base_uri": "https://localhost:8080/"
        },
        "id": "Nr9WlZmdEtTX",
        "outputId": "95bc23bb-a3ea-48ad-c69e-2c0e344a6539"
      },
      "outputs": [
        {
          "name": "stdout",
          "output_type": "stream",
          "text": [
            "(50000, 2)\n"
          ]
        }
      ],
      "source": [
        "y_train_union = np.array([[i,j] for i,j in zip(y_train_fine, y_train_coarse)])\n",
        "print(y_train_union.shape)"
      ]
    },
    {
      "cell_type": "code",
      "execution_count": null,
      "metadata": {
        "colab": {
          "base_uri": "https://localhost:8080/"
        },
        "id": "y3-JQyzoFBV-",
        "outputId": "3e7c04ca-fb5d-46e8-ba7e-5b378108e105"
      },
      "outputs": [
        {
          "name": "stdout",
          "output_type": "stream",
          "text": [
            "(50000, 2)\n"
          ]
        }
      ],
      "source": [
        "uniongonza = np.vstack([y_train_fine, y_train_coarse]).T\n",
        "print(uniongonza.shape)"
      ]
    },
    {
      "cell_type": "code",
      "execution_count": null,
      "metadata": {
        "colab": {
          "base_uri": "https://localhost:8080/",
          "height": 499
        },
        "id": "Q2IIFCRVGMpH",
        "outputId": "c9494b58-d3c6-4c5e-85fe-4bf7450a443f"
      },
      "outputs": [
        {
          "data": {
            "image/png": "[encoded data removed]",
            "text/plain": [
              "<Figure size 640x480 with 1 Axes>"
            ]
          },
          "metadata": {},
          "output_type": "display_data"
        },
        {
          "name": "stdout",
          "output_type": "stream",
          "text": [
            "86\n",
            "telephone\n",
            "5\n",
            "household_electrical_devices\n"
          ]
        }
      ],
      "source": [
        "num = 5\n",
        "\n",
        "img = x_train[num]\n",
        "plt.imshow(img)\n",
        "plt.show()\n",
        "print(y_train_union[num][0])\n",
        "print(labels_fine[y_train_union[num][0]])\n",
        "print(y_train_union[num][1])\n",
        "print(labels_coarse[y_train_union[num][1]])"
      ]
    },
    {
      "cell_type": "code",
      "execution_count": null,
      "metadata": {
        "id": "A8qM-1f3wmc7"
      },
      "outputs": [],
      "source": [
        "x_train_own, x_val_own, y_train_own, y_val_own = train_test_split(x_train, y_train_union, test_size=0.2, stratify=y_train_union)"
      ]
    },
    {
      "cell_type": "code",
      "execution_count": null,
      "metadata": {
        "colab": {
          "base_uri": "https://localhost:8080/"
        },
        "collapsed": true,
        "id": "qYLLwVZPID89",
        "outputId": "119e66b4-2151-4e6d-dbb6-ee59c85e8036"
      },
      "outputs": [
        {
          "name": "stdout",
          "output_type": "stream",
          "text": [
            "Shape of x_train_own: (40000, 32, 32, 3)\n",
            "Shape of x_val_own: (10000, 32, 32, 3)\n",
            "Shape of y_train_own: (40000, 2)\n",
            "Shape of y_val_own: (10000, 2)\n",
            "Original Proportions:\n",
            "Class [0 4]: 0.01\n",
            "Class [1 1]: 0.01\n",
            "Class [ 2 14]: 0.01\n",
            "Class [3 8]: 0.01\n",
            "Class [4 0]: 0.01\n",
            "Class [5 6]: 0.01\n",
            "Class [6 7]: 0.01\n",
            "Class [7 7]: 0.01\n",
            "Class [ 8 18]: 0.01\n",
            "Class [9 3]: 0.01\n",
            "Class [10  3]: 0.01\n",
            "Class [11 14]: 0.01\n",
            "Class [12  9]: 0.01\n",
            "Class [13 18]: 0.01\n",
            "Class [14  7]: 0.01\n",
            "Class [15 11]: 0.01\n",
            "Class [16  3]: 0.01\n",
            "Class [17  9]: 0.01\n",
            "Class [18  7]: 0.01\n",
            "Class [19 11]: 0.01\n",
            "Class [20  6]: 0.01\n",
            "Class [21 11]: 0.01\n",
            "Class [22  5]: 0.01\n",
            "Class [23 10]: 0.01\n",
            "Class [24  7]: 0.01\n",
            "Class [25  6]: 0.01\n",
            "Class [26 13]: 0.01\n",
            "Class [27 15]: 0.01\n",
            "Class [28  3]: 0.01\n",
            "Class [29 15]: 0.01\n",
            "Class [30  0]: 0.01\n",
            "Class [31 11]: 0.01\n",
            "Class [32  1]: 0.01\n",
            "Class [33 10]: 0.01\n",
            "Class [34 12]: 0.01\n",
            "Class [35 14]: 0.01\n",
            "Class [36 16]: 0.01\n",
            "Class [37  9]: 0.01\n",
            "Class [38 11]: 0.01\n",
            "Class [39  5]: 0.01\n",
            "Class [40  5]: 0.01\n",
            "Class [41 19]: 0.01\n",
            "Class [42  8]: 0.01\n",
            "Class [43  8]: 0.01\n",
            "Class [44 15]: 0.01\n",
            "Class [45 13]: 0.01\n",
            "Class [46 14]: 0.01\n",
            "Class [47 17]: 0.01\n",
            "Class [48 18]: 0.01\n",
            "Class [49 10]: 0.01\n",
            "Class [50 16]: 0.01\n",
            "Class [51  4]: 0.01\n",
            "Class [52 17]: 0.01\n",
            "Class [53  4]: 0.01\n",
            "Class [54  2]: 0.01\n",
            "Class [55  0]: 0.01\n",
            "Class [56 17]: 0.01\n",
            "Class [57  4]: 0.01\n",
            "Class [58 18]: 0.01\n",
            "Class [59 17]: 0.01\n",
            "Class [60 10]: 0.01\n",
            "Class [61  3]: 0.01\n",
            "Class [62  2]: 0.01\n",
            "Class [63 12]: 0.01\n",
            "Class [64 12]: 0.01\n",
            "Class [65 16]: 0.01\n",
            "Class [66 12]: 0.01\n",
            "Class [67  1]: 0.01\n",
            "Class [68  9]: 0.01\n",
            "Class [69 19]: 0.01\n",
            "Class [70  2]: 0.01\n",
            "Class [71 10]: 0.01\n",
            "Class [72  0]: 0.01\n",
            "Class [73  1]: 0.01\n",
            "Class [74 16]: 0.01\n",
            "Class [75 12]: 0.01\n",
            "Class [76  9]: 0.01\n",
            "Class [77 13]: 0.01\n",
            "Class [78 15]: 0.01\n",
            "Class [79 13]: 0.01\n",
            "Class [80 16]: 0.01\n",
            "Class [81 19]: 0.01\n",
            "Class [82  2]: 0.01\n",
            "Class [83  4]: 0.01\n",
            "Class [84  6]: 0.01\n",
            "Class [85 19]: 0.01\n",
            "Class [86  5]: 0.01\n",
            "Class [87  5]: 0.01\n",
            "Class [88  8]: 0.01\n",
            "Class [89 19]: 0.01\n",
            "Class [90 18]: 0.01\n",
            "Class [91  1]: 0.01\n",
            "Class [92  2]: 0.01\n",
            "Class [93 15]: 0.01\n",
            "Class [94  6]: 0.01\n",
            "Class [95  0]: 0.01\n",
            "Class [96 17]: 0.01\n",
            "Class [97  8]: 0.01\n",
            "Class [98 14]: 0.01\n",
            "Class [99 13]: 0.01\n",
            "\n",
            "Train Proportions:\n",
            "Class [0 4]: 0.01\n",
            "Class [1 1]: 0.01\n",
            "Class [ 2 14]: 0.01\n",
            "Class [3 8]: 0.01\n",
            "Class [4 0]: 0.01\n",
            "Class [5 6]: 0.01\n",
            "Class [6 7]: 0.01\n",
            "Class [7 7]: 0.01\n",
            "Class [ 8 18]: 0.01\n",
            "Class [9 3]: 0.01\n",
            "Class [10  3]: 0.01\n",
            "Class [11 14]: 0.01\n",
            "Class [12  9]: 0.01\n",
            "Class [13 18]: 0.01\n",
            "Class [14  7]: 0.01\n",
            "Class [15 11]: 0.01\n",
            "Class [16  3]: 0.01\n",
            "Class [17  9]: 0.01\n",
            "Class [18  7]: 0.01\n",
            "Class [19 11]: 0.01\n",
            "Class [20  6]: 0.01\n",
            "Class [21 11]: 0.01\n",
            "Class [22  5]: 0.01\n",
            "Class [23 10]: 0.01\n",
            "Class [24  7]: 0.01\n",
            "Class [25  6]: 0.01\n",
            "Class [26 13]: 0.01\n",
            "Class [27 15]: 0.01\n",
            "Class [28  3]: 0.01\n",
            "Class [29 15]: 0.01\n",
            "Class [30  0]: 0.01\n",
            "Class [31 11]: 0.01\n",
            "Class [32  1]: 0.01\n",
            "Class [33 10]: 0.01\n",
            "Class [34 12]: 0.01\n",
            "Class [35 14]: 0.01\n",
            "Class [36 16]: 0.01\n",
            "Class [37  9]: 0.01\n",
            "Class [38 11]: 0.01\n",
            "Class [39  5]: 0.01\n",
            "Class [40  5]: 0.01\n",
            "Class [41 19]: 0.01\n",
            "Class [42  8]: 0.01\n",
            "Class [43  8]: 0.01\n",
            "Class [44 15]: 0.01\n",
            "Class [45 13]: 0.01\n",
            "Class [46 14]: 0.01\n",
            "Class [47 17]: 0.01\n",
            "Class [48 18]: 0.01\n",
            "Class [49 10]: 0.01\n",
            "Class [50 16]: 0.01\n",
            "Class [51  4]: 0.01\n",
            "Class [52 17]: 0.01\n",
            "Class [53  4]: 0.01\n",
            "Class [54  2]: 0.01\n",
            "Class [55  0]: 0.01\n",
            "Class [56 17]: 0.01\n",
            "Class [57  4]: 0.01\n",
            "Class [58 18]: 0.01\n",
            "Class [59 17]: 0.01\n",
            "Class [60 10]: 0.01\n",
            "Class [61  3]: 0.01\n",
            "Class [62  2]: 0.01\n",
            "Class [63 12]: 0.01\n",
            "Class [64 12]: 0.01\n",
            "Class [65 16]: 0.01\n",
            "Class [66 12]: 0.01\n",
            "Class [67  1]: 0.01\n",
            "Class [68  9]: 0.01\n",
            "Class [69 19]: 0.01\n",
            "Class [70  2]: 0.01\n",
            "Class [71 10]: 0.01\n",
            "Class [72  0]: 0.01\n",
            "Class [73  1]: 0.01\n",
            "Class [74 16]: 0.01\n",
            "Class [75 12]: 0.01\n",
            "Class [76  9]: 0.01\n",
            "Class [77 13]: 0.01\n",
            "Class [78 15]: 0.01\n",
            "Class [79 13]: 0.01\n",
            "Class [80 16]: 0.01\n",
            "Class [81 19]: 0.01\n",
            "Class [82  2]: 0.01\n",
            "Class [83  4]: 0.01\n",
            "Class [84  6]: 0.01\n",
            "Class [85 19]: 0.01\n",
            "Class [86  5]: 0.01\n",
            "Class [87  5]: 0.01\n",
            "Class [88  8]: 0.01\n",
            "Class [89 19]: 0.01\n",
            "Class [90 18]: 0.01\n",
            "Class [91  1]: 0.01\n",
            "Class [92  2]: 0.01\n",
            "Class [93 15]: 0.01\n",
            "Class [94  6]: 0.01\n",
            "Class [95  0]: 0.01\n",
            "Class [96 17]: 0.01\n",
            "Class [97  8]: 0.01\n",
            "Class [98 14]: 0.01\n",
            "Class [99 13]: 0.01\n",
            "\n",
            "Validation Proportions:\n",
            "Class [0 4]: 0.01\n",
            "Class [1 1]: 0.01\n",
            "Class [ 2 14]: 0.01\n",
            "Class [3 8]: 0.01\n",
            "Class [4 0]: 0.01\n",
            "Class [5 6]: 0.01\n",
            "Class [6 7]: 0.01\n",
            "Class [7 7]: 0.01\n",
            "Class [ 8 18]: 0.01\n",
            "Class [9 3]: 0.01\n",
            "Class [10  3]: 0.01\n",
            "Class [11 14]: 0.01\n",
            "Class [12  9]: 0.01\n",
            "Class [13 18]: 0.01\n",
            "Class [14  7]: 0.01\n",
            "Class [15 11]: 0.01\n",
            "Class [16  3]: 0.01\n",
            "Class [17  9]: 0.01\n",
            "Class [18  7]: 0.01\n",
            "Class [19 11]: 0.01\n",
            "Class [20  6]: 0.01\n",
            "Class [21 11]: 0.01\n",
            "Class [22  5]: 0.01\n",
            "Class [23 10]: 0.01\n",
            "Class [24  7]: 0.01\n",
            "Class [25  6]: 0.01\n",
            "Class [26 13]: 0.01\n",
            "Class [27 15]: 0.01\n",
            "Class [28  3]: 0.01\n",
            "Class [29 15]: 0.01\n",
            "Class [30  0]: 0.01\n",
            "Class [31 11]: 0.01\n",
            "Class [32  1]: 0.01\n",
            "Class [33 10]: 0.01\n",
            "Class [34 12]: 0.01\n",
            "Class [35 14]: 0.01\n",
            "Class [36 16]: 0.01\n",
            "Class [37  9]: 0.01\n",
            "Class [38 11]: 0.01\n",
            "Class [39  5]: 0.01\n",
            "Class [40  5]: 0.01\n",
            "Class [41 19]: 0.01\n",
            "Class [42  8]: 0.01\n",
            "Class [43  8]: 0.01\n",
            "Class [44 15]: 0.01\n",
            "Class [45 13]: 0.01\n",
            "Class [46 14]: 0.01\n",
            "Class [47 17]: 0.01\n",
            "Class [48 18]: 0.01\n",
            "Class [49 10]: 0.01\n",
            "Class [50 16]: 0.01\n",
            "Class [51  4]: 0.01\n",
            "Class [52 17]: 0.01\n",
            "Class [53  4]: 0.01\n",
            "Class [54  2]: 0.01\n",
            "Class [55  0]: 0.01\n",
            "Class [56 17]: 0.01\n",
            "Class [57  4]: 0.01\n",
            "Class [58 18]: 0.01\n",
            "Class [59 17]: 0.01\n",
            "Class [60 10]: 0.01\n",
            "Class [61  3]: 0.01\n",
            "Class [62  2]: 0.01\n",
            "Class [63 12]: 0.01\n",
            "Class [64 12]: 0.01\n",
            "Class [65 16]: 0.01\n",
            "Class [66 12]: 0.01\n",
            "Class [67  1]: 0.01\n",
            "Class [68  9]: 0.01\n",
            "Class [69 19]: 0.01\n",
            "Class [70  2]: 0.01\n",
            "Class [71 10]: 0.01\n",
            "Class [72  0]: 0.01\n",
            "Class [73  1]: 0.01\n",
            "Class [74 16]: 0.01\n",
            "Class [75 12]: 0.01\n",
            "Class [76  9]: 0.01\n",
            "Class [77 13]: 0.01\n",
            "Class [78 15]: 0.01\n",
            "Class [79 13]: 0.01\n",
            "Class [80 16]: 0.01\n",
            "Class [81 19]: 0.01\n",
            "Class [82  2]: 0.01\n",
            "Class [83  4]: 0.01\n",
            "Class [84  6]: 0.01\n",
            "Class [85 19]: 0.01\n",
            "Class [86  5]: 0.01\n",
            "Class [87  5]: 0.01\n",
            "Class [88  8]: 0.01\n",
            "Class [89 19]: 0.01\n",
            "Class [90 18]: 0.01\n",
            "Class [91  1]: 0.01\n",
            "Class [92  2]: 0.01\n",
            "Class [93 15]: 0.01\n",
            "Class [94  6]: 0.01\n",
            "Class [95  0]: 0.01\n",
            "Class [96 17]: 0.01\n",
            "Class [97  8]: 0.01\n",
            "Class [98 14]: 0.01\n",
            "Class [99 13]: 0.01\n"
          ]
        }
      ],
      "source": [
        "# prompt: I want to check correct stratification of data (stratification means same proportion of classes in train and validation data)\n",
        "\n",
        "print(f'Shape of x_train_own: {x_train_own.shape}')\n",
        "print(f'Shape of x_val_own: {x_val_own.shape}')\n",
        "print(f'Shape of y_train_own: {y_train_own.shape}')\n",
        "print(f'Shape of y_val_own: {y_val_own.shape}')\n",
        "\n",
        "# Check class proportions in the original training data\n",
        "unique_classes, class_counts = np.unique(y_train_union, axis=0, return_counts=True)\n",
        "total_samples = len(y_train_union)\n",
        "original_proportions = class_counts / total_samples\n",
        "\n",
        "# Check class proportions in the training split\n",
        "unique_train_classes, train_class_counts = np.unique(y_train_own, axis=0, return_counts=True)\n",
        "train_total_samples = len(y_train_own)\n",
        "train_proportions = train_class_counts / train_total_samples\n",
        "\n",
        "\n",
        "# Check class proportions in the validation split\n",
        "unique_val_classes, val_class_counts = np.unique(y_val_own, axis=0, return_counts=True)\n",
        "val_total_samples = len(y_val_own)\n",
        "val_proportions = val_class_counts / val_total_samples\n",
        "\n",
        "print(\"Original Proportions:\")\n",
        "for i in range(len(unique_classes)):\n",
        "    print(f\"Class {unique_classes[i]}: {original_proportions[i]}\")\n",
        "\n",
        "print(\"\\nTrain Proportions:\")\n",
        "for i in range(len(unique_train_classes)):\n",
        "  print(f\"Class {unique_train_classes[i]}: {train_proportions[i]}\")\n",
        "\n",
        "\n",
        "print(\"\\nValidation Proportions:\")\n",
        "for i in range(len(unique_val_classes)):\n",
        "  print(f\"Class {unique_val_classes[i]}: {val_proportions[i]}\")"
      ]
    },
    {
      "cell_type": "code",
      "execution_count": null,
      "metadata": {
        "colab": {
          "base_uri": "https://localhost:8080/"
        },
        "id": "4W0Lx8j13NQI",
        "outputId": "7a85dac8-6909-43b9-a7cc-304a4117e741"
      },
      "outputs": [
        {
          "name": "stdout",
          "output_type": "stream",
          "text": [
            "Dimensiones de x_train_own: (40000, 32, 32, 3)\n",
            "Dimensiones de y_train_own: (40000, 2)\n"
          ]
        }
      ],
      "source": [
        "print(f'Dimensiones de x_train_own: {x_train_own.shape}')\n",
        "print(f'Dimensiones de y_train_own: {y_train_own.shape}')"
      ]
    },
    {
      "cell_type": "code",
      "execution_count": null,
      "metadata": {
        "colab": {
          "base_uri": "https://localhost:8080/",
          "height": 499
        },
        "id": "csdDuOdy56ik",
        "outputId": "9d2be8ce-349a-40af-e595-babf118663d8"
      },
      "outputs": [
        {
          "data": {
            "image/png": "[encoded data removed]",
            "text/plain": [
              "<Figure size 640x480 with 1 Axes>"
            ]
          },
          "metadata": {},
          "output_type": "display_data"
        },
        {
          "name": "stdout",
          "output_type": "stream",
          "text": [
            "34\n",
            "fox\n",
            "12\n",
            "medium_mammals\n"
          ]
        }
      ],
      "source": [
        "num2 = 5\n",
        "\n",
        "img_selected = x_train_own[num2]\n",
        "plt.imshow(img_selected)\n",
        "plt.show()\n",
        "\n",
        "print(y_train_own[num2][0])\n",
        "print(labels_fine[y_train_own[num2][0]])\n",
        "print(y_train_own[num2][1])\n",
        "print(labels_coarse[y_train_own[num2][1]])"
      ]
    },
    {
      "cell_type": "code",
      "execution_count": null,
      "metadata": {
        "colab": {
          "base_uri": "https://localhost:8080/",
          "height": 425
        },
        "id": "Ua6ihbLrQSh-",
        "outputId": "84e8aa28-fefb-438f-9746-cf366475af1f"
      },
      "outputs": [
        {
          "data": {
            "text/html": [
              "<pre style=\"white-space:pre;overflow-x:auto;line-height:normal;font-family:Menlo,'DejaVu Sans Mono',consolas,'Courier New',monospace\"><span style=\"font-weight: bold\">Model: \"functional_5\"</span>\n",
              "</pre>\n"
            ],
            "text/plain": [
              "\u001b[1mModel: \"functional_5\"\u001b[0m\n"
            ]
          },
          "metadata": {},
          "output_type": "display_data"
        },
        {
          "data": {
            "text/html": [
              "<pre style=\"white-space:pre;overflow-x:auto;line-height:normal;font-family:Menlo,'DejaVu Sans Mono',consolas,'Courier New',monospace\">┏━━━━━━━━━━━━━━━━━━━━━━━━━━━┳━━━━━━━━━━━━━━━━━━━━━━━━┳━━━━━━━━━━━━━━━━┳━━━━━━━━━━━━━━━━━━━━━━━━┓\n",
              "┃<span style=\"font-weight: bold\"> Layer (type)              </span>┃<span style=\"font-weight: bold\"> Output Shape           </span>┃<span style=\"font-weight: bold\">        Param # </span>┃<span style=\"font-weight: bold\"> Connected to           </span>┃\n",
              "┡━━━━━━━━━━━━━━━━━━━━━━━━━━━╇━━━━━━━━━━━━━━━━━━━━━━━━╇━━━━━━━━━━━━━━━━╇━━━━━━━━━━━━━━━━━━━━━━━━┩\n",
              "│ keras_tensor_40CLONE      │ (<span style=\"color: #00d7ff; text-decoration-color: #00d7ff\">None</span>, <span style=\"color: #00af00; text-decoration-color: #00af00\">32</span>, <span style=\"color: #00af00; text-decoration-color: #00af00\">32</span>, <span style=\"color: #00af00; text-decoration-color: #00af00\">3</span>)      │              <span style=\"color: #00af00; text-decoration-color: #00af00\">0</span> │ -                      │\n",
              "│ (<span style=\"color: #0087ff; text-decoration-color: #0087ff\">InputLayer</span>)              │                        │                │                        │\n",
              "├───────────────────────────┼────────────────────────┼────────────────┼────────────────────────┤\n",
              "│ flattened_input (<span style=\"color: #0087ff; text-decoration-color: #0087ff\">Flatten</span>) │ (<span style=\"color: #00d7ff; text-decoration-color: #00d7ff\">None</span>, <span style=\"color: #00af00; text-decoration-color: #00af00\">3072</span>)           │              <span style=\"color: #00af00; text-decoration-color: #00af00\">0</span> │ keras_tensor_40CLONE[<span style=\"color: #00af00; text-decoration-color: #00af00\">…</span> │\n",
              "├───────────────────────────┼────────────────────────┼────────────────┼────────────────────────┤\n",
              "│ dense_512 (<span style=\"color: #0087ff; text-decoration-color: #0087ff\">Dense</span>)         │ (<span style=\"color: #00d7ff; text-decoration-color: #00d7ff\">None</span>, <span style=\"color: #00af00; text-decoration-color: #00af00\">512</span>)            │      <span style=\"color: #00af00; text-decoration-color: #00af00\">1,573,376</span> │ flattened_input[<span style=\"color: #00af00; text-decoration-color: #00af00\">1</span>][<span style=\"color: #00af00; text-decoration-color: #00af00\">0</span>]  │\n",
              "├───────────────────────────┼────────────────────────┼────────────────┼────────────────────────┤\n",
              "│ dense_256 (<span style=\"color: #0087ff; text-decoration-color: #0087ff\">Dense</span>)         │ (<span style=\"color: #00d7ff; text-decoration-color: #00d7ff\">None</span>, <span style=\"color: #00af00; text-decoration-color: #00af00\">256</span>)            │        <span style=\"color: #00af00; text-decoration-color: #00af00\">131,328</span> │ dense_512[<span style=\"color: #00af00; text-decoration-color: #00af00\">1</span>][<span style=\"color: #00af00; text-decoration-color: #00af00\">0</span>]        │\n",
              "├───────────────────────────┼────────────────────────┼────────────────┼────────────────────────┤\n",
              "│ dense_128 (<span style=\"color: #0087ff; text-decoration-color: #0087ff\">Dense</span>)         │ (<span style=\"color: #00d7ff; text-decoration-color: #00d7ff\">None</span>, <span style=\"color: #00af00; text-decoration-color: #00af00\">128</span>)            │         <span style=\"color: #00af00; text-decoration-color: #00af00\">32,896</span> │ dense_256[<span style=\"color: #00af00; text-decoration-color: #00af00\">1</span>][<span style=\"color: #00af00; text-decoration-color: #00af00\">0</span>]        │\n",
              "├───────────────────────────┼────────────────────────┼────────────────┼────────────────────────┤\n",
              "│ dense_64 (<span style=\"color: #0087ff; text-decoration-color: #0087ff\">Dense</span>)          │ (<span style=\"color: #00d7ff; text-decoration-color: #00d7ff\">None</span>, <span style=\"color: #00af00; text-decoration-color: #00af00\">64</span>)             │          <span style=\"color: #00af00; text-decoration-color: #00af00\">8,256</span> │ dense_128[<span style=\"color: #00af00; text-decoration-color: #00af00\">1</span>][<span style=\"color: #00af00; text-decoration-color: #00af00\">0</span>]        │\n",
              "├───────────────────────────┼────────────────────────┼────────────────┼────────────────────────┤\n",
              "│ fine_output (<span style=\"color: #0087ff; text-decoration-color: #0087ff\">Dense</span>)       │ (<span style=\"color: #00d7ff; text-decoration-color: #00d7ff\">None</span>, <span style=\"color: #00af00; text-decoration-color: #00af00\">100</span>)            │          <span style=\"color: #00af00; text-decoration-color: #00af00\">6,500</span> │ dense_64[<span style=\"color: #00af00; text-decoration-color: #00af00\">1</span>][<span style=\"color: #00af00; text-decoration-color: #00af00\">0</span>]         │\n",
              "├───────────────────────────┼────────────────────────┼────────────────┼────────────────────────┤\n",
              "│ coarse_output (<span style=\"color: #0087ff; text-decoration-color: #0087ff\">Dense</span>)     │ (<span style=\"color: #00d7ff; text-decoration-color: #00d7ff\">None</span>, <span style=\"color: #00af00; text-decoration-color: #00af00\">20</span>)             │          <span style=\"color: #00af00; text-decoration-color: #00af00\">1,300</span> │ dense_64[<span style=\"color: #00af00; text-decoration-color: #00af00\">1</span>][<span style=\"color: #00af00; text-decoration-color: #00af00\">0</span>]         │\n",
              "└───────────────────────────┴────────────────────────┴────────────────┴────────────────────────┘\n",
              "</pre>\n"
            ],
            "text/plain": [
              "┏━━━━━━━━━━━━━━━━━━━━━━━━━━━┳━━━━━━━━━━━━━━━━━━━━━━━━┳━━━━━━━━━━━━━━━━┳━━━━━━━━━━━━━━━━━━━━━━━━┓\n",
              "┃\u001b[1m \u001b[0m\u001b[1mLayer (type)             \u001b[0m\u001b[1m \u001b[0m┃\u001b[1m \u001b[0m\u001b[1mOutput Shape          \u001b[0m\u001b[1m \u001b[0m┃\u001b[1m \u001b[0m\u001b[1m       Param #\u001b[0m\u001b[1m \u001b[0m┃\u001b[1m \u001b[0m\u001b[1mConnected to          \u001b[0m\u001b[1m \u001b[0m┃\n",
              "┡━━━━━━━━━━━━━━━━━━━━━━━━━━━╇━━━━━━━━━━━━━━━━━━━━━━━━╇━━━━━━━━━━━━━━━━╇━━━━━━━━━━━━━━━━━━━━━━━━┩\n",
              "│ keras_tensor_40CLONE      │ (\u001b[38;5;45mNone\u001b[0m, \u001b[38;5;34m32\u001b[0m, \u001b[38;5;34m32\u001b[0m, \u001b[38;5;34m3\u001b[0m)      │              \u001b[38;5;34m0\u001b[0m │ -                      │\n",
              "│ (\u001b[38;5;33mInputLayer\u001b[0m)              │                        │                │                        │\n",
              "├───────────────────────────┼────────────────────────┼────────────────┼────────────────────────┤\n",
              "│ flattened_input (\u001b[38;5;33mFlatten\u001b[0m) │ (\u001b[38;5;45mNone\u001b[0m, \u001b[38;5;34m3072\u001b[0m)           │              \u001b[38;5;34m0\u001b[0m │ keras_tensor_40CLONE[\u001b[38;5;34m…\u001b[0m │\n",
              "├───────────────────────────┼────────────────────────┼────────────────┼────────────────────────┤\n",
              "│ dense_512 (\u001b[38;5;33mDense\u001b[0m)         │ (\u001b[38;5;45mNone\u001b[0m, \u001b[38;5;34m512\u001b[0m)            │      \u001b[38;5;34m1,573,376\u001b[0m │ flattened_input[\u001b[38;5;34m1\u001b[0m][\u001b[38;5;34m0\u001b[0m]  │\n",
              "├───────────────────────────┼────────────────────────┼────────────────┼────────────────────────┤\n",
              "│ dense_256 (\u001b[38;5;33mDense\u001b[0m)         │ (\u001b[38;5;45mNone\u001b[0m, \u001b[38;5;34m256\u001b[0m)            │        \u001b[38;5;34m131,328\u001b[0m │ dense_512[\u001b[38;5;34m1\u001b[0m][\u001b[38;5;34m0\u001b[0m]        │\n",
              "├───────────────────────────┼────────────────────────┼────────────────┼────────────────────────┤\n",
              "│ dense_128 (\u001b[38;5;33mDense\u001b[0m)         │ (\u001b[38;5;45mNone\u001b[0m, \u001b[38;5;34m128\u001b[0m)            │         \u001b[38;5;34m32,896\u001b[0m │ dense_256[\u001b[38;5;34m1\u001b[0m][\u001b[38;5;34m0\u001b[0m]        │\n",
              "├───────────────────────────┼────────────────────────┼────────────────┼────────────────────────┤\n",
              "│ dense_64 (\u001b[38;5;33mDense\u001b[0m)          │ (\u001b[38;5;45mNone\u001b[0m, \u001b[38;5;34m64\u001b[0m)             │          \u001b[38;5;34m8,256\u001b[0m │ dense_128[\u001b[38;5;34m1\u001b[0m][\u001b[38;5;34m0\u001b[0m]        │\n",
              "├───────────────────────────┼────────────────────────┼────────────────┼────────────────────────┤\n",
              "│ fine_output (\u001b[38;5;33mDense\u001b[0m)       │ (\u001b[38;5;45mNone\u001b[0m, \u001b[38;5;34m100\u001b[0m)            │          \u001b[38;5;34m6,500\u001b[0m │ dense_64[\u001b[38;5;34m1\u001b[0m][\u001b[38;5;34m0\u001b[0m]         │\n",
              "├───────────────────────────┼────────────────────────┼────────────────┼────────────────────────┤\n",
              "│ coarse_output (\u001b[38;5;33mDense\u001b[0m)     │ (\u001b[38;5;45mNone\u001b[0m, \u001b[38;5;34m20\u001b[0m)             │          \u001b[38;5;34m1,300\u001b[0m │ dense_64[\u001b[38;5;34m1\u001b[0m][\u001b[38;5;34m0\u001b[0m]         │\n",
              "└───────────────────────────┴────────────────────────┴────────────────┴────────────────────────┘\n"
            ]
          },
          "metadata": {},
          "output_type": "display_data"
        },
        {
          "data": {
            "text/html": [
              "<pre style=\"white-space:pre;overflow-x:auto;line-height:normal;font-family:Menlo,'DejaVu Sans Mono',consolas,'Courier New',monospace\"><span style=\"font-weight: bold\"> Total params: </span><span style=\"color: #00af00; text-decoration-color: #00af00\">1,753,656</span> (6.69 MB)\n",
              "</pre>\n"
            ],
            "text/plain": [
              "\u001b[1m Total params: \u001b[0m\u001b[38;5;34m1,753,656\u001b[0m (6.69 MB)\n"
            ]
          },
          "metadata": {},
          "output_type": "display_data"
        },
        {
          "data": {
            "text/html": [
              "<pre style=\"white-space:pre;overflow-x:auto;line-height:normal;font-family:Menlo,'DejaVu Sans Mono',consolas,'Courier New',monospace\"><span style=\"font-weight: bold\"> Trainable params: </span><span style=\"color: #00af00; text-decoration-color: #00af00\">1,753,656</span> (6.69 MB)\n",
              "</pre>\n"
            ],
            "text/plain": [
              "\u001b[1m Trainable params: \u001b[0m\u001b[38;5;34m1,753,656\u001b[0m (6.69 MB)\n"
            ]
          },
          "metadata": {},
          "output_type": "display_data"
        },
        {
          "data": {
            "text/html": [
              "<pre style=\"white-space:pre;overflow-x:auto;line-height:normal;font-family:Menlo,'DejaVu Sans Mono',consolas,'Courier New',monospace\"><span style=\"font-weight: bold\"> Non-trainable params: </span><span style=\"color: #00af00; text-decoration-color: #00af00\">0</span> (0.00 B)\n",
              "</pre>\n"
            ],
            "text/plain": [
              "\u001b[1m Non-trainable params: \u001b[0m\u001b[38;5;34m0\u001b[0m (0.00 B)\n"
            ]
          },
          "metadata": {},
          "output_type": "display_data"
        }
      ],
      "source": [
        "#INTENTO CON MAS CAPAS\n",
        "import tensorflow as tf\n",
        "from tensorflow.keras import layers, models\n",
        "\n",
        "# Number of fine-grain (100) and coarse-grain (20) classes\n",
        "fine_classes = 100\n",
        "coarse_classes = 20\n",
        "\n",
        "\n",
        "# Aquí usaríamos x_train como data_entrenamiento\n",
        "\n",
        "\n",
        "# Define the input layer\n",
        "input_layer = layers.Input(shape=(32, 32, 3), name=\"matrix_input\")  # CIFAR-100 images\n",
        "\n",
        "# normalization\n",
        "normalization_layer = layers.Normalization(axis=-1, name=\"normalization_layer\")\n",
        "normalization_layer.adapt(x_train)\n",
        "input_layer = normalization_layer(input_layer)\n",
        "flatten_layer = layers.Flatten(name=\"flattened_input\")(input_layer)\n",
        "# Hidden layers\n",
        "dense_512 = layers.Dense(512, activation='relu', name=\"dense_512\")(flatten_layer)\n",
        "dense_256 = layers.Dense(256, activation='relu', name=\"dense_256\")(dense_512)\n",
        "dense_128 = layers.Dense(128, activation='relu', name=\"dense_128\")(dense_256)\n",
        "dense_64 = layers.Dense(64, activation='relu', name=\"dense_64\")(dense_128)\n",
        "\n",
        "# Fine-grain prediction branch (100 classes)\n",
        "fine_output = layers.Dense(fine_classes,\n",
        "                           activation='softmax',\n",
        "                           name='fine_output')(dense_64)\n",
        "\n",
        "# Coarse-grain prediction branch (20 classes)\n",
        "coarse_output = layers.Dense(coarse_classes,\n",
        "                             activation='softmax',\n",
        "                             name='coarse_output')(dense_64)\n",
        "\n",
        "# Define the model with two outputs\n",
        "model = models.Model(inputs=input_layer, outputs=[fine_output, coarse_output])\n",
        "\n",
        "# Compile the model with separate loss functions for each output\n",
        "model.compile(\n",
        "    optimizer='adam',\n",
        "    loss={'fine_output': 'sparse_categorical_crossentropy', 'coarse_output': 'sparse_categorical_crossentropy'},\n",
        "    metrics={'fine_output': 'accuracy', 'coarse_output': 'accuracy'}\n",
        ")\n",
        "\n",
        "\n",
        "# Print model summary\n",
        "model.summary()\n"
      ]
    },
    {
      "cell_type": "code",
      "execution_count": null,
      "metadata": {
        "colab": {
          "base_uri": "https://localhost:8080/",
          "height": 527
        },
        "id": "qh6SzooGDmDF",
        "outputId": "d14887be-59fe-4f59-ea30-c28bd04e8b16"
      },
      "outputs": [
        {
          "data": {
            "text/html": [
              "<pre style=\"white-space:pre;overflow-x:auto;line-height:normal;font-family:Menlo,'DejaVu Sans Mono',consolas,'Courier New',monospace\"><span style=\"font-weight: bold\">Model: \"functional_7\"</span>\n",
              "</pre>\n"
            ],
            "text/plain": [
              "\u001b[1mModel: \"functional_7\"\u001b[0m\n"
            ]
          },
          "metadata": {},
          "output_type": "display_data"
        },
        {
          "data": {
            "text/html": [
              "<pre style=\"white-space:pre;overflow-x:auto;line-height:normal;font-family:Menlo,'DejaVu Sans Mono',consolas,'Courier New',monospace\">┏━━━━━━━━━━━━━━━━━━━━━━━━━━━┳━━━━━━━━━━━━━━━━━━━━━━━━┳━━━━━━━━━━━━━━━━┳━━━━━━━━━━━━━━━━━━━━━━━━┓\n",
              "┃<span style=\"font-weight: bold\"> Layer (type)              </span>┃<span style=\"font-weight: bold\"> Output Shape           </span>┃<span style=\"font-weight: bold\">        Param # </span>┃<span style=\"font-weight: bold\"> Connected to           </span>┃\n",
              "┡━━━━━━━━━━━━━━━━━━━━━━━━━━━╇━━━━━━━━━━━━━━━━━━━━━━━━╇━━━━━━━━━━━━━━━━╇━━━━━━━━━━━━━━━━━━━━━━━━┩\n",
              "│ matrix_input (<span style=\"color: #0087ff; text-decoration-color: #0087ff\">InputLayer</span>) │ (<span style=\"color: #00d7ff; text-decoration-color: #00d7ff\">None</span>, <span style=\"color: #00af00; text-decoration-color: #00af00\">32</span>, <span style=\"color: #00af00; text-decoration-color: #00af00\">32</span>, <span style=\"color: #00af00; text-decoration-color: #00af00\">3</span>)      │              <span style=\"color: #00af00; text-decoration-color: #00af00\">0</span> │ -                      │\n",
              "├───────────────────────────┼────────────────────────┼────────────────┼────────────────────────┤\n",
              "│ normalization_layer       │ (<span style=\"color: #00d7ff; text-decoration-color: #00d7ff\">None</span>, <span style=\"color: #00af00; text-decoration-color: #00af00\">32</span>, <span style=\"color: #00af00; text-decoration-color: #00af00\">32</span>, <span style=\"color: #00af00; text-decoration-color: #00af00\">3</span>)      │              <span style=\"color: #00af00; text-decoration-color: #00af00\">7</span> │ matrix_input[<span style=\"color: #00af00; text-decoration-color: #00af00\">0</span>][<span style=\"color: #00af00; text-decoration-color: #00af00\">0</span>]     │\n",
              "│ (<span style=\"color: #0087ff; text-decoration-color: #0087ff\">Normalization</span>)           │                        │                │                        │\n",
              "├───────────────────────────┼────────────────────────┼────────────────┼────────────────────────┤\n",
              "│ flattened_input (<span style=\"color: #0087ff; text-decoration-color: #0087ff\">Flatten</span>) │ (<span style=\"color: #00d7ff; text-decoration-color: #00d7ff\">None</span>, <span style=\"color: #00af00; text-decoration-color: #00af00\">3072</span>)           │              <span style=\"color: #00af00; text-decoration-color: #00af00\">0</span> │ normalization_layer[<span style=\"color: #00af00; text-decoration-color: #00af00\">0</span>… │\n",
              "├───────────────────────────┼────────────────────────┼────────────────┼────────────────────────┤\n",
              "│ dense_512 (<span style=\"color: #0087ff; text-decoration-color: #0087ff\">Dense</span>)         │ (<span style=\"color: #00d7ff; text-decoration-color: #00d7ff\">None</span>, <span style=\"color: #00af00; text-decoration-color: #00af00\">512</span>)            │      <span style=\"color: #00af00; text-decoration-color: #00af00\">1,573,376</span> │ flattened_input[<span style=\"color: #00af00; text-decoration-color: #00af00\">0</span>][<span style=\"color: #00af00; text-decoration-color: #00af00\">0</span>]  │\n",
              "├───────────────────────────┼────────────────────────┼────────────────┼────────────────────────┤\n",
              "│ dropout_8 (<span style=\"color: #0087ff; text-decoration-color: #0087ff\">Dropout</span>)       │ (<span style=\"color: #00d7ff; text-decoration-color: #00d7ff\">None</span>, <span style=\"color: #00af00; text-decoration-color: #00af00\">512</span>)            │              <span style=\"color: #00af00; text-decoration-color: #00af00\">0</span> │ dense_512[<span style=\"color: #00af00; text-decoration-color: #00af00\">0</span>][<span style=\"color: #00af00; text-decoration-color: #00af00\">0</span>]        │\n",
              "├───────────────────────────┼────────────────────────┼────────────────┼────────────────────────┤\n",
              "│ dense_256 (<span style=\"color: #0087ff; text-decoration-color: #0087ff\">Dense</span>)         │ (<span style=\"color: #00d7ff; text-decoration-color: #00d7ff\">None</span>, <span style=\"color: #00af00; text-decoration-color: #00af00\">256</span>)            │        <span style=\"color: #00af00; text-decoration-color: #00af00\">131,328</span> │ dropout_8[<span style=\"color: #00af00; text-decoration-color: #00af00\">0</span>][<span style=\"color: #00af00; text-decoration-color: #00af00\">0</span>]        │\n",
              "├───────────────────────────┼────────────────────────┼────────────────┼────────────────────────┤\n",
              "│ dropout_9 (<span style=\"color: #0087ff; text-decoration-color: #0087ff\">Dropout</span>)       │ (<span style=\"color: #00d7ff; text-decoration-color: #00d7ff\">None</span>, <span style=\"color: #00af00; text-decoration-color: #00af00\">256</span>)            │              <span style=\"color: #00af00; text-decoration-color: #00af00\">0</span> │ dense_256[<span style=\"color: #00af00; text-decoration-color: #00af00\">0</span>][<span style=\"color: #00af00; text-decoration-color: #00af00\">0</span>]        │\n",
              "├───────────────────────────┼────────────────────────┼────────────────┼────────────────────────┤\n",
              "│ dense_128 (<span style=\"color: #0087ff; text-decoration-color: #0087ff\">Dense</span>)         │ (<span style=\"color: #00d7ff; text-decoration-color: #00d7ff\">None</span>, <span style=\"color: #00af00; text-decoration-color: #00af00\">128</span>)            │         <span style=\"color: #00af00; text-decoration-color: #00af00\">32,896</span> │ dropout_9[<span style=\"color: #00af00; text-decoration-color: #00af00\">0</span>][<span style=\"color: #00af00; text-decoration-color: #00af00\">0</span>]        │\n",
              "├───────────────────────────┼────────────────────────┼────────────────┼────────────────────────┤\n",
              "│ dense_64 (<span style=\"color: #0087ff; text-decoration-color: #0087ff\">Dense</span>)          │ (<span style=\"color: #00d7ff; text-decoration-color: #00d7ff\">None</span>, <span style=\"color: #00af00; text-decoration-color: #00af00\">64</span>)             │          <span style=\"color: #00af00; text-decoration-color: #00af00\">8,256</span> │ dense_128[<span style=\"color: #00af00; text-decoration-color: #00af00\">0</span>][<span style=\"color: #00af00; text-decoration-color: #00af00\">0</span>]        │\n",
              "├───────────────────────────┼────────────────────────┼────────────────┼────────────────────────┤\n",
              "│ fine_output (<span style=\"color: #0087ff; text-decoration-color: #0087ff\">Dense</span>)       │ (<span style=\"color: #00d7ff; text-decoration-color: #00d7ff\">None</span>, <span style=\"color: #00af00; text-decoration-color: #00af00\">100</span>)            │          <span style=\"color: #00af00; text-decoration-color: #00af00\">6,500</span> │ dense_64[<span style=\"color: #00af00; text-decoration-color: #00af00\">0</span>][<span style=\"color: #00af00; text-decoration-color: #00af00\">0</span>]         │\n",
              "├───────────────────────────┼────────────────────────┼────────────────┼────────────────────────┤\n",
              "│ coarse_output (<span style=\"color: #0087ff; text-decoration-color: #0087ff\">Dense</span>)     │ (<span style=\"color: #00d7ff; text-decoration-color: #00d7ff\">None</span>, <span style=\"color: #00af00; text-decoration-color: #00af00\">20</span>)             │          <span style=\"color: #00af00; text-decoration-color: #00af00\">1,300</span> │ dense_64[<span style=\"color: #00af00; text-decoration-color: #00af00\">0</span>][<span style=\"color: #00af00; text-decoration-color: #00af00\">0</span>]         │\n",
              "└───────────────────────────┴────────────────────────┴────────────────┴────────────────────────┘\n",
              "</pre>\n"
            ],
            "text/plain": [
              "┏━━━━━━━━━━━━━━━━━━━━━━━━━━━┳━━━━━━━━━━━━━━━━━━━━━━━━┳━━━━━━━━━━━━━━━━┳━━━━━━━━━━━━━━━━━━━━━━━━┓\n",
              "┃\u001b[1m \u001b[0m\u001b[1mLayer (type)             \u001b[0m\u001b[1m \u001b[0m┃\u001b[1m \u001b[0m\u001b[1mOutput Shape          \u001b[0m\u001b[1m \u001b[0m┃\u001b[1m \u001b[0m\u001b[1m       Param #\u001b[0m\u001b[1m \u001b[0m┃\u001b[1m \u001b[0m\u001b[1mConnected to          \u001b[0m\u001b[1m \u001b[0m┃\n",
              "┡━━━━━━━━━━━━━━━━━━━━━━━━━━━╇━━━━━━━━━━━━━━━━━━━━━━━━╇━━━━━━━━━━━━━━━━╇━━━━━━━━━━━━━━━━━━━━━━━━┩\n",
              "│ matrix_input (\u001b[38;5;33mInputLayer\u001b[0m) │ (\u001b[38;5;45mNone\u001b[0m, \u001b[38;5;34m32\u001b[0m, \u001b[38;5;34m32\u001b[0m, \u001b[38;5;34m3\u001b[0m)      │              \u001b[38;5;34m0\u001b[0m │ -                      │\n",
              "├───────────────────────────┼────────────────────────┼────────────────┼────────────────────────┤\n",
              "│ normalization_layer       │ (\u001b[38;5;45mNone\u001b[0m, \u001b[38;5;34m32\u001b[0m, \u001b[38;5;34m32\u001b[0m, \u001b[38;5;34m3\u001b[0m)      │              \u001b[38;5;34m7\u001b[0m │ matrix_input[\u001b[38;5;34m0\u001b[0m][\u001b[38;5;34m0\u001b[0m]     │\n",
              "│ (\u001b[38;5;33mNormalization\u001b[0m)           │                        │                │                        │\n",
              "├───────────────────────────┼────────────────────────┼────────────────┼────────────────────────┤\n",
              "│ flattened_input (\u001b[38;5;33mFlatten\u001b[0m) │ (\u001b[38;5;45mNone\u001b[0m, \u001b[38;5;34m3072\u001b[0m)           │              \u001b[38;5;34m0\u001b[0m │ normalization_layer[\u001b[38;5;34m0\u001b[0m… │\n",
              "├───────────────────────────┼────────────────────────┼────────────────┼────────────────────────┤\n",
              "│ dense_512 (\u001b[38;5;33mDense\u001b[0m)         │ (\u001b[38;5;45mNone\u001b[0m, \u001b[38;5;34m512\u001b[0m)            │      \u001b[38;5;34m1,573,376\u001b[0m │ flattened_input[\u001b[38;5;34m0\u001b[0m][\u001b[38;5;34m0\u001b[0m]  │\n",
              "├───────────────────────────┼────────────────────────┼────────────────┼────────────────────────┤\n",
              "│ dropout_8 (\u001b[38;5;33mDropout\u001b[0m)       │ (\u001b[38;5;45mNone\u001b[0m, \u001b[38;5;34m512\u001b[0m)            │              \u001b[38;5;34m0\u001b[0m │ dense_512[\u001b[38;5;34m0\u001b[0m][\u001b[38;5;34m0\u001b[0m]        │\n",
              "├───────────────────────────┼────────────────────────┼────────────────┼────────────────────────┤\n",
              "│ dense_256 (\u001b[38;5;33mDense\u001b[0m)         │ (\u001b[38;5;45mNone\u001b[0m, \u001b[38;5;34m256\u001b[0m)            │        \u001b[38;5;34m131,328\u001b[0m │ dropout_8[\u001b[38;5;34m0\u001b[0m][\u001b[38;5;34m0\u001b[0m]        │\n",
              "├───────────────────────────┼────────────────────────┼────────────────┼────────────────────────┤\n",
              "│ dropout_9 (\u001b[38;5;33mDropout\u001b[0m)       │ (\u001b[38;5;45mNone\u001b[0m, \u001b[38;5;34m256\u001b[0m)            │              \u001b[38;5;34m0\u001b[0m │ dense_256[\u001b[38;5;34m0\u001b[0m][\u001b[38;5;34m0\u001b[0m]        │\n",
              "├───────────────────────────┼────────────────────────┼────────────────┼────────────────────────┤\n",
              "│ dense_128 (\u001b[38;5;33mDense\u001b[0m)         │ (\u001b[38;5;45mNone\u001b[0m, \u001b[38;5;34m128\u001b[0m)            │         \u001b[38;5;34m32,896\u001b[0m │ dropout_9[\u001b[38;5;34m0\u001b[0m][\u001b[38;5;34m0\u001b[0m]        │\n",
              "├───────────────────────────┼────────────────────────┼────────────────┼────────────────────────┤\n",
              "│ dense_64 (\u001b[38;5;33mDense\u001b[0m)          │ (\u001b[38;5;45mNone\u001b[0m, \u001b[38;5;34m64\u001b[0m)             │          \u001b[38;5;34m8,256\u001b[0m │ dense_128[\u001b[38;5;34m0\u001b[0m][\u001b[38;5;34m0\u001b[0m]        │\n",
              "├───────────────────────────┼────────────────────────┼────────────────┼────────────────────────┤\n",
              "│ fine_output (\u001b[38;5;33mDense\u001b[0m)       │ (\u001b[38;5;45mNone\u001b[0m, \u001b[38;5;34m100\u001b[0m)            │          \u001b[38;5;34m6,500\u001b[0m │ dense_64[\u001b[38;5;34m0\u001b[0m][\u001b[38;5;34m0\u001b[0m]         │\n",
              "├───────────────────────────┼────────────────────────┼────────────────┼────────────────────────┤\n",
              "│ coarse_output (\u001b[38;5;33mDense\u001b[0m)     │ (\u001b[38;5;45mNone\u001b[0m, \u001b[38;5;34m20\u001b[0m)             │          \u001b[38;5;34m1,300\u001b[0m │ dense_64[\u001b[38;5;34m0\u001b[0m][\u001b[38;5;34m0\u001b[0m]         │\n",
              "└───────────────────────────┴────────────────────────┴────────────────┴────────────────────────┘\n"
            ]
          },
          "metadata": {},
          "output_type": "display_data"
        },
        {
          "data": {
            "text/html": [
              "<pre style=\"white-space:pre;overflow-x:auto;line-height:normal;font-family:Menlo,'DejaVu Sans Mono',consolas,'Courier New',monospace\"><span style=\"font-weight: bold\"> Total params: </span><span style=\"color: #00af00; text-decoration-color: #00af00\">1,753,663</span> (6.69 MB)\n",
              "</pre>\n"
            ],
            "text/plain": [
              "\u001b[1m Total params: \u001b[0m\u001b[38;5;34m1,753,663\u001b[0m (6.69 MB)\n"
            ]
          },
          "metadata": {},
          "output_type": "display_data"
        },
        {
          "data": {
            "text/html": [
              "<pre style=\"white-space:pre;overflow-x:auto;line-height:normal;font-family:Menlo,'DejaVu Sans Mono',consolas,'Courier New',monospace\"><span style=\"font-weight: bold\"> Trainable params: </span><span style=\"color: #00af00; text-decoration-color: #00af00\">1,753,656</span> (6.69 MB)\n",
              "</pre>\n"
            ],
            "text/plain": [
              "\u001b[1m Trainable params: \u001b[0m\u001b[38;5;34m1,753,656\u001b[0m (6.69 MB)\n"
            ]
          },
          "metadata": {},
          "output_type": "display_data"
        },
        {
          "data": {
            "text/html": [
              "<pre style=\"white-space:pre;overflow-x:auto;line-height:normal;font-family:Menlo,'DejaVu Sans Mono',consolas,'Courier New',monospace\"><span style=\"font-weight: bold\"> Non-trainable params: </span><span style=\"color: #00af00; text-decoration-color: #00af00\">7</span> (32.00 B)\n",
              "</pre>\n"
            ],
            "text/plain": [
              "\u001b[1m Non-trainable params: \u001b[0m\u001b[38;5;34m7\u001b[0m (32.00 B)\n"
            ]
          },
          "metadata": {},
          "output_type": "display_data"
        }
      ],
      "source": [
        "#INTENTO CON DROPOUT,\n",
        "# USE ESTE AL FINAL, convine mas capas y dropout. ACA ESTA LA POSTA\n",
        "from tensorflow.keras import layers, models\n",
        "import tensorflow as tf\n",
        "from tensorflow.keras.callbacks import ReduceLROnPlateau\n",
        "\n",
        "# Número de clases\n",
        "fine_classes = 100\n",
        "coarse_classes = 20\n",
        "\n",
        "# Entrada y normalización\n",
        "input_layer = layers.Input(shape=(32, 32, 3), name=\"matrix_input\")\n",
        "normalization_layer = layers.Normalization(axis=-1, name=\"normalization_layer\")\n",
        "normalization_layer.adapt(x_train)  # Ajusta según los datos de entrenamiento\n",
        "\n",
        "# Estructura de la red\n",
        "x = normalization_layer(input_layer)\n",
        "flatten_layer = layers.Flatten(name=\"flattened_input\")(x)\n",
        "\n",
        "# Capas ocultas con mayor capacidad y Dropout\n",
        "dense_512 = layers.Dense(512, activation='relu', name=\"dense_512\")(flatten_layer)\n",
        "dropout_512 = layers.Dropout(0.2)(dense_512)\n",
        "dense_256 = layers.Dense(256, activation='relu', name=\"dense_256\")(dropout_512)\n",
        "dropout_256 = layers.Dropout(0.2)(dense_256)\n",
        "dense_128 = layers.Dense(128, activation='relu', name=\"dense_128\")(dropout_256)\n",
        "dense_64 = layers.Dense(64, activation='relu', name=\"dense_64\")(dense_128)\n",
        "\n",
        "\n",
        "# Fine-grain prediction branch (100 classes)\n",
        "fine_output = layers.Dense(fine_classes,\n",
        "                           activation='softmax',\n",
        "                           name='fine_output')(dense_64)\n",
        "\n",
        "# Coarse-grain prediction branch (20 classes)\n",
        "coarse_output = layers.Dense(coarse_classes,\n",
        "                             activation='softmax',\n",
        "                             name='coarse_output')(dense_64)\n",
        "\n",
        "\n",
        "# Define el modelo con dos salidas\n",
        "model = models.Model(inputs=input_layer, outputs=[fine_output, coarse_output])\n",
        "\n",
        "# Compile the model with separate loss functions for each output\n",
        "model.compile(\n",
        "    optimizer='adam',\n",
        "    loss={'fine_output': 'sparse_categorical_crossentropy', 'coarse_output': 'sparse_categorical_crossentropy'},\n",
        "    metrics={'fine_output': 'accuracy', 'coarse_output': 'accuracy'}\n",
        ")\n",
        "\n",
        "\n",
        "# Print model summary\n",
        "model.summary()\n",
        "\n"
      ]
    },
    {
      "cell_type": "code",
      "execution_count": null,
      "metadata": {
        "collapsed": true,
        "id": "CSY8g94VS9kT"
      },
      "outputs": [],
      "source": [
        "#COMENTAMOS ESTE GRAFICO GIGANTE DE IVO\n",
        "#from tensorflow.keras.utils import plot_model\n",
        "#plot_model(model, to_file='model_plot.png', show_shapes=True, show_layer_names=True)"
      ]
    },
    {
      "cell_type": "code",
      "execution_count": null,
      "metadata": {
        "colab": {
          "base_uri": "https://localhost:8080/"
        },
        "id": "6_bnmy0cWSTB",
        "outputId": "87289e49-57b8-4ef2-ea68-8cf43f84e74c"
      },
      "outputs": [
        {
          "name": "stdout",
          "output_type": "stream",
          "text": [
            "(40000, 32, 32, 3)\n",
            "(40000, 2)\n",
            "[42 95 19 ... 26 64 47]\n"
          ]
        }
      ],
      "source": [
        "print(x_train_own.shape)\n",
        "print(y_train_own.shape)\n",
        "\n",
        "lista = y_train_own[:,0]\n",
        "print(lista)"
      ]
    },
    {
      "cell_type": "code",
      "execution_count": null,
      "metadata": {
        "colab": {
          "base_uri": "https://localhost:8080/"
        },
        "id": "sinBvVxlnJ2-",
        "outputId": "8d52a0c8-46dd-439b-84f2-83d23282ae20"
      },
      "outputs": [
        {
          "name": "stdout",
          "output_type": "stream",
          "text": [
            "x_train_own shape: (40000, 32, 32, 3)\n",
            "y_train_own shape: (40000, 2)\n",
            "x_val_own shape: (10000, 32, 32, 3)\n",
            "y_val_own shape: (10000, 2)\n"
          ]
        }
      ],
      "source": [
        "print(f\"x_train_own shape: {x_train_own.shape}\")\n",
        "print(f\"y_train_own shape: {y_train_own.shape}\")\n",
        "print(f\"x_val_own shape: {x_val_own.shape}\")\n",
        "print(f\"y_val_own shape: {y_val_own.shape}\")\n"
      ]
    },
    {
      "cell_type": "code",
      "execution_count": null,
      "metadata": {
        "id": "usLt8dSjB_ik"
      },
      "outputs": [],
      "source": [
        "#AGREGUE ACA UN PAR QUE ESTABAN EN EL OTRO\n",
        "rlrop = ReduceLROnPlateau(\n",
        "    monitor = \"val_accuracy\",\n",
        "    factor = 0.5,\n",
        "    patience = 3,\n",
        "    verbose = 1,\n",
        "    min_lr = 1e-5\n",
        ")\n",
        "\n",
        "es = EarlyStopping(\n",
        "    monitor = \"val_accuracy\",\n",
        "    patience = 5,\n",
        "    verbose = 1,\n",
        "    restore_best_weights = True\n",
        ")\n",
        "\n",
        "mc = ModelCheckpoint(\n",
        "    \"best_weights.weights.h5\",\n",
        "    monitor = \"val_accuracy\",\n",
        "    verbose = 1,\n",
        "    save_best_only = True,\n",
        "    save_weights_only = True,\n",
        "\n",
        ")\n",
        "\n",
        "tb = TensorBoard(\n",
        "    log_dir = \"logs\"\n",
        ")"
      ]
    },
    {
      "cell_type": "code",
      "execution_count": null,
      "metadata": {
        "colab": {
          "base_uri": "https://localhost:8080/"
        },
        "collapsed": true,
        "id": "-mAn9JGqTLgX",
        "outputId": "eada8aa0-8a37-4f37-90a1-91b87b071473"
      },
      "outputs": [
        {
          "name": "stdout",
          "output_type": "stream",
          "text": [
            "Epoch 1/10\n",
            "\u001b[1m1248/1250\u001b[0m \u001b[32m━━━━━━━━━━━━━━━━━━━\u001b[0m\u001b[37m━\u001b[0m \u001b[1m0s\u001b[0m 25ms/step - coarse_output_accuracy: 0.1407 - fine_output_accuracy: 0.0362 - loss: 7.2404{'coarse_output_accuracy': 0.1707250028848648, 'fine_output_accuracy': 0.05597500130534172, 'loss': 6.901590824127197, 'val_coarse_output_accuracy': 0.22439999878406525, 'val_fine_output_accuracy': 0.08659999817609787, 'val_loss': 6.417306423187256}\n",
            "\u001b[1m1250/1250\u001b[0m \u001b[32m━━━━━━━━━━━━━━━━━━━━\u001b[0m\u001b[37m\u001b[0m \u001b[1m36s\u001b[0m 27ms/step - coarse_output_accuracy: 0.1408 - fine_output_accuracy: 0.0363 - loss: 7.2396 - val_coarse_output_accuracy: 0.2244 - val_fine_output_accuracy: 0.0866 - val_loss: 6.4173\n",
            "Epoch 2/10\n",
            "\u001b[1m1249/1250\u001b[0m \u001b[32m━━━━━━━━━━━━━━━━━━━\u001b[0m\u001b[37m━\u001b[0m \u001b[1m0s\u001b[0m 26ms/step - coarse_output_accuracy: 0.2295 - fine_output_accuracy: 0.0976 - loss: 6.3945{'coarse_output_accuracy': 0.23444999754428864, 'fine_output_accuracy': 0.10102500021457672, 'loss': 6.349236965179443, 'val_coarse_output_accuracy': 0.2563000023365021, 'val_fine_output_accuracy': 0.11249999701976776, 'val_loss': 6.1888508796691895}\n",
            "\u001b[1m1250/1250\u001b[0m \u001b[32m━━━━━━━━━━━━━━━━━━━━\u001b[0m\u001b[37m\u001b[0m \u001b[1m42s\u001b[0m 28ms/step - coarse_output_accuracy: 0.2295 - fine_output_accuracy: 0.0976 - loss: 6.3945 - val_coarse_output_accuracy: 0.2563 - val_fine_output_accuracy: 0.1125 - val_loss: 6.1889\n",
            "Epoch 3/10\n",
            "\u001b[1m1249/1250\u001b[0m \u001b[32m━━━━━━━━━━━━━━━━━━━\u001b[0m\u001b[37m━\u001b[0m \u001b[1m0s\u001b[0m 32ms/step - coarse_output_accuracy: 0.2621 - fine_output_accuracy: 0.1170 - loss: 6.1495{'coarse_output_accuracy': 0.2619749903678894, 'fine_output_accuracy': 0.1198749989271164, 'loss': 6.145015239715576, 'val_coarse_output_accuracy': 0.2712000012397766, 'val_fine_output_accuracy': 0.1340000033378601, 'val_loss': 6.016561985015869}\n",
            "\u001b[1m1250/1250\u001b[0m \u001b[32m━━━━━━━━━━━━━━━━━━━━\u001b[0m\u001b[37m\u001b[0m \u001b[1m43s\u001b[0m 35ms/step - coarse_output_accuracy: 0.2621 - fine_output_accuracy: 0.1170 - loss: 6.1495 - val_coarse_output_accuracy: 0.2712 - val_fine_output_accuracy: 0.1340 - val_loss: 6.0166\n",
            "Epoch 4/10\n",
            "\u001b[1m1248/1250\u001b[0m \u001b[32m━━━━━━━━━━━━━━━━━━━\u001b[0m\u001b[37m━\u001b[0m \u001b[1m0s\u001b[0m 29ms/step - coarse_output_accuracy: 0.2795 - fine_output_accuracy: 0.1391 - loss: 5.9898{'coarse_output_accuracy': 0.27799999713897705, 'fine_output_accuracy': 0.13552500307559967, 'loss': 6.009105205535889, 'val_coarse_output_accuracy': 0.28839999437332153, 'val_fine_output_accuracy': 0.14800000190734863, 'val_loss': 5.937166690826416}\n",
            "\u001b[1m1250/1250\u001b[0m \u001b[32m━━━━━━━━━━━━━━━━━━━━\u001b[0m\u001b[37m\u001b[0m \u001b[1m76s\u001b[0m 30ms/step - coarse_output_accuracy: 0.2795 - fine_output_accuracy: 0.1391 - loss: 5.9898 - val_coarse_output_accuracy: 0.2884 - val_fine_output_accuracy: 0.1480 - val_loss: 5.9372\n",
            "Epoch 5/10\n",
            "\u001b[1m1248/1250\u001b[0m \u001b[32m━━━━━━━━━━━━━━━━━━━\u001b[0m\u001b[37m━\u001b[0m \u001b[1m0s\u001b[0m 26ms/step - coarse_output_accuracy: 0.2900 - fine_output_accuracy: 0.1404 - loss: 5.8855{'coarse_output_accuracy': 0.29010000824928284, 'fine_output_accuracy': 0.14315000176429749, 'loss': 5.8924736976623535, 'val_coarse_output_accuracy': 0.29100000858306885, 'val_fine_output_accuracy': 0.1542000025510788, 'val_loss': 5.860006332397461}\n",
            "\u001b[1m1250/1250\u001b[0m \u001b[32m━━━━━━━━━━━━━━━━━━━━\u001b[0m\u001b[37m\u001b[0m \u001b[1m37s\u001b[0m 27ms/step - coarse_output_accuracy: 0.2900 - fine_output_accuracy: 0.1404 - loss: 5.8855 - val_coarse_output_accuracy: 0.2910 - val_fine_output_accuracy: 0.1542 - val_loss: 5.8600\n",
            "Epoch 6/10\n",
            "\u001b[1m1248/1250\u001b[0m \u001b[32m━━━━━━━━━━━━━━━━━━━\u001b[0m\u001b[37m━\u001b[0m \u001b[1m0s\u001b[0m 26ms/step - coarse_output_accuracy: 0.3064 - fine_output_accuracy: 0.1609 - loss: 5.7592{'coarse_output_accuracy': 0.30114999413490295, 'fine_output_accuracy': 0.15657499432563782, 'loss': 5.790212154388428, 'val_coarse_output_accuracy': 0.30090001225471497, 'val_fine_output_accuracy': 0.16009999811649323, 'val_loss': 5.805875778198242}\n",
            "\u001b[1m1250/1250\u001b[0m \u001b[32m━━━━━━━━━━━━━━━━━━━━\u001b[0m\u001b[37m\u001b[0m \u001b[1m41s\u001b[0m 27ms/step - coarse_output_accuracy: 0.3064 - fine_output_accuracy: 0.1609 - loss: 5.7593 - val_coarse_output_accuracy: 0.3009 - val_fine_output_accuracy: 0.1601 - val_loss: 5.8059\n",
            "Epoch 7/10\n",
            "\u001b[1m1248/1250\u001b[0m \u001b[32m━━━━━━━━━━━━━━━━━━━\u001b[0m\u001b[37m━\u001b[0m \u001b[1m0s\u001b[0m 26ms/step - coarse_output_accuracy: 0.3148 - fine_output_accuracy: 0.1667 - loss: 5.6847{'coarse_output_accuracy': 0.3100000023841858, 'fine_output_accuracy': 0.16329999268054962, 'loss': 5.703409671783447, 'val_coarse_output_accuracy': 0.3095000088214874, 'val_fine_output_accuracy': 0.16680000722408295, 'val_loss': 5.7395100593566895}\n",
            "\u001b[1m1250/1250\u001b[0m \u001b[32m━━━━━━━━━━━━━━━━━━━━\u001b[0m\u001b[37m\u001b[0m \u001b[1m41s\u001b[0m 27ms/step - coarse_output_accuracy: 0.3148 - fine_output_accuracy: 0.1667 - loss: 5.6848 - val_coarse_output_accuracy: 0.3095 - val_fine_output_accuracy: 0.1668 - val_loss: 5.7395\n",
            "Epoch 8/10\n",
            "\u001b[1m1249/1250\u001b[0m \u001b[32m━━━━━━━━━━━━━━━━━━━\u001b[0m\u001b[37m━\u001b[0m \u001b[1m0s\u001b[0m 28ms/step - coarse_output_accuracy: 0.3246 - fine_output_accuracy: 0.1701 - loss: 5.6148{'coarse_output_accuracy': 0.32124999165534973, 'fine_output_accuracy': 0.1701750010251999, 'loss': 5.6379475593566895, 'val_coarse_output_accuracy': 0.3188000023365021, 'val_fine_output_accuracy': 0.1770000010728836, 'val_loss': 5.692567825317383}\n",
            "\u001b[1m1250/1250\u001b[0m \u001b[32m━━━━━━━━━━━━━━━━━━━━\u001b[0m\u001b[37m\u001b[0m \u001b[1m36s\u001b[0m 29ms/step - coarse_output_accuracy: 0.3246 - fine_output_accuracy: 0.1701 - loss: 5.6148 - val_coarse_output_accuracy: 0.3188 - val_fine_output_accuracy: 0.1770 - val_loss: 5.6926\n",
            "Epoch 9/10\n",
            "\u001b[1m1250/1250\u001b[0m \u001b[32m━━━━━━━━━━━━━━━━━━━━\u001b[0m\u001b[37m\u001b[0m \u001b[1m0s\u001b[0m 26ms/step - coarse_output_accuracy: 0.3355 - fine_output_accuracy: 0.1813 - loss: 5.5252{'coarse_output_accuracy': 0.33147498965263367, 'fine_output_accuracy': 0.17857499420642853, 'loss': 5.561302661895752, 'val_coarse_output_accuracy': 0.3221000134944916, 'val_fine_output_accuracy': 0.18080000579357147, 'val_loss': 5.671888828277588}\n",
            "\u001b[1m1250/1250\u001b[0m \u001b[32m━━━━━━━━━━━━━━━━━━━━\u001b[0m\u001b[37m\u001b[0m \u001b[1m41s\u001b[0m 30ms/step - coarse_output_accuracy: 0.3355 - fine_output_accuracy: 0.1813 - loss: 5.5253 - val_coarse_output_accuracy: 0.3221 - val_fine_output_accuracy: 0.1808 - val_loss: 5.6719\n",
            "Epoch 10/10\n",
            "\u001b[1m1249/1250\u001b[0m \u001b[32m━━━━━━━━━━━━━━━━━━━\u001b[0m\u001b[37m━\u001b[0m \u001b[1m0s\u001b[0m 26ms/step - coarse_output_accuracy: 0.3423 - fine_output_accuracy: 0.1850 - loss: 5.4500{'coarse_output_accuracy': 0.3416999876499176, 'fine_output_accuracy': 0.1829500049352646, 'loss': 5.482916355133057, 'val_coarse_output_accuracy': 0.320499986410141, 'val_fine_output_accuracy': 0.17810000479221344, 'val_loss': 5.70489501953125}\n",
            "\u001b[1m1250/1250\u001b[0m \u001b[32m━━━━━━━━━━━━━━━━━━━━\u001b[0m\u001b[37m\u001b[0m \u001b[1m38s\u001b[0m 27ms/step - coarse_output_accuracy: 0.3423 - fine_output_accuracy: 0.1850 - loss: 5.4500 - val_coarse_output_accuracy: 0.3205 - val_fine_output_accuracy: 0.1781 - val_loss: 5.7049\n"
          ]
        }
      ],
      "source": [
        "#x_train_own, x_val_own, y_train_own, y_val_own = train_test_split(x_train, y_train_union, test_size=0.2, stratify=y_train_union)\n",
        "# SIN LOS OTROS CALLBACKS CON MENOS BATCH\n",
        "history = model.fit(\n",
        "    x = x_train_own,\n",
        "    y = {'fine_output': lista, 'coarse_output': y_train_own[:,1]},\n",
        "    epochs = 10,\n",
        "    batch_size = 32,\n",
        "    validation_data = (x_val_own, {'fine_output': y_val_own[:,0], 'coarse_output': y_val_own[:,1]}),\n",
        "    # Add the following line:\n",
        "    callbacks=[tf.keras.callbacks.LambdaCallback(on_epoch_end=lambda epoch, logs: print(logs if logs is not None else \"No logs available\"))]\n",
        "\n",
        ")"
      ]
    },
    {
      "cell_type": "code",
      "execution_count": null,
      "metadata": {
        "colab": {
          "base_uri": "https://localhost:8080/"
        },
        "id": "Cwbd3pqvD7vy",
        "outputId": "24318d93-06e7-4879-e06c-d5adb4378d3e"
      },
      "outputs": [
        {
          "name": "stdout",
          "output_type": "stream",
          "text": [
            "Epoch 1/20\n",
            "\u001b[1m624/625\u001b[0m \u001b[32m━━━━━━━━━━━━━━━━━━━\u001b[0m\u001b[37m━\u001b[0m \u001b[1m0s\u001b[0m 33ms/step - coarse_output_accuracy: 0.1308 - fine_output_accuracy: 0.0387 - loss: 7.2793{'coarse_output_accuracy': 0.1639000028371811, 'fine_output_accuracy': 0.05635000020265579, 'loss': 6.986175060272217, 'val_coarse_output_accuracy': 0.22830000519752502, 'val_fine_output_accuracy': 0.09679999947547913, 'val_loss': 6.454349994659424}\n",
            "\u001b[1m625/625\u001b[0m \u001b[32m━━━━━━━━━━━━━━━━━━━━\u001b[0m\u001b[37m\u001b[0m \u001b[1m26s\u001b[0m 38ms/step - coarse_output_accuracy: 0.1309 - fine_output_accuracy: 0.0388 - loss: 7.2784 - val_coarse_output_accuracy: 0.2283 - val_fine_output_accuracy: 0.0968 - val_loss: 6.4543 - learning_rate: 0.0010\n",
            "Epoch 2/20\n",
            "\u001b[1m  5/625\u001b[0m \u001b[37m━━━━━━━━━━━━━━━━━━━━\u001b[0m \u001b[1m17s\u001b[0m 29ms/step - coarse_output_accuracy: 0.1829 - fine_output_accuracy: 0.1010 - loss: 6.4168"
          ]
        },
        {
          "name": "stderr",
          "output_type": "stream",
          "text": [
            "/usr/local/lib/python3.10/dist-packages/keras/src/callbacks/callback_list.py:96: UserWarning: Learning rate reduction is conditioned on metric `val_accuracy` which is not available. Available metrics are: coarse_output_accuracy,fine_output_accuracy,loss,val_coarse_output_accuracy,val_fine_output_accuracy,val_loss,learning_rate.\n",
            "  callback.on_epoch_end(epoch, logs)\n",
            "/usr/local/lib/python3.10/dist-packages/keras/src/callbacks/model_checkpoint.py:206: UserWarning: Can save best model only with val_accuracy available, skipping.\n",
            "  self._save_model(epoch=epoch, batch=None, logs=logs)\n"
          ]
        },
        {
          "name": "stdout",
          "output_type": "stream",
          "text": [
            "\u001b[1m625/625\u001b[0m \u001b[32m━━━━━━━━━━━━━━━━━━━━\u001b[0m\u001b[37m\u001b[0m \u001b[1m0s\u001b[0m 35ms/step - coarse_output_accuracy: 0.2237 - fine_output_accuracy: 0.0935 - loss: 6.4397{'coarse_output_accuracy': 0.23330000042915344, 'fine_output_accuracy': 0.1002499982714653, 'loss': 6.38668966293335, 'val_coarse_output_accuracy': 0.260699987411499, 'val_fine_output_accuracy': 0.12210000306367874, 'val_loss': 6.150067329406738}\n",
            "\u001b[1m625/625\u001b[0m \u001b[32m━━━━━━━━━━━━━━━━━━━━\u001b[0m\u001b[37m\u001b[0m \u001b[1m23s\u001b[0m 37ms/step - coarse_output_accuracy: 0.2237 - fine_output_accuracy: 0.0935 - loss: 6.4396 - val_coarse_output_accuracy: 0.2607 - val_fine_output_accuracy: 0.1221 - val_loss: 6.1501 - learning_rate: 0.0010\n",
            "Epoch 3/20\n",
            "\u001b[1m625/625\u001b[0m \u001b[32m━━━━━━━━━━━━━━━━━━━━\u001b[0m\u001b[37m\u001b[0m \u001b[1m0s\u001b[0m 36ms/step - coarse_output_accuracy: 0.2574 - fine_output_accuracy: 0.1206 - loss: 6.1523{'coarse_output_accuracy': 0.2641499936580658, 'fine_output_accuracy': 0.1242000013589859, 'loss': 6.124065399169922, 'val_coarse_output_accuracy': 0.27799999713897705, 'val_fine_output_accuracy': 0.13750000298023224, 'val_loss': 6.008011341094971}\n",
            "\u001b[1m625/625\u001b[0m \u001b[32m━━━━━━━━━━━━━━━━━━━━\u001b[0m\u001b[37m\u001b[0m \u001b[1m24s\u001b[0m 39ms/step - coarse_output_accuracy: 0.2574 - fine_output_accuracy: 0.1206 - loss: 6.1522 - val_coarse_output_accuracy: 0.2780 - val_fine_output_accuracy: 0.1375 - val_loss: 6.0080 - learning_rate: 0.0010\n",
            "Epoch 4/20\n",
            "\u001b[1m624/625\u001b[0m \u001b[32m━━━━━━━━━━━━━━━━━━━\u001b[0m\u001b[37m━\u001b[0m \u001b[1m0s\u001b[0m 31ms/step - coarse_output_accuracy: 0.2860 - fine_output_accuracy: 0.1378 - loss: 5.9505{'coarse_output_accuracy': 0.28722500801086426, 'fine_output_accuracy': 0.14277499914169312, 'loss': 5.942696571350098, 'val_coarse_output_accuracy': 0.29919999837875366, 'val_fine_output_accuracy': 0.15479999780654907, 'val_loss': 5.835040092468262}\n",
            "\u001b[1m625/625\u001b[0m \u001b[32m━━━━━━━━━━━━━━━━━━━━\u001b[0m\u001b[37m\u001b[0m \u001b[1m39s\u001b[0m 36ms/step - coarse_output_accuracy: 0.2860 - fine_output_accuracy: 0.1378 - loss: 5.9505 - val_coarse_output_accuracy: 0.2992 - val_fine_output_accuracy: 0.1548 - val_loss: 5.8350 - learning_rate: 0.0010\n",
            "Epoch 5/20\n",
            "\u001b[1m624/625\u001b[0m \u001b[32m━━━━━━━━━━━━━━━━━━━\u001b[0m\u001b[37m━\u001b[0m \u001b[1m0s\u001b[0m 33ms/step - coarse_output_accuracy: 0.2994 - fine_output_accuracy: 0.1525 - loss: 5.8163{'coarse_output_accuracy': 0.3013499975204468, 'fine_output_accuracy': 0.15604999661445618, 'loss': 5.810001850128174, 'val_coarse_output_accuracy': 0.31470000743865967, 'val_fine_output_accuracy': 0.17110000550746918, 'val_loss': 5.749093532562256}\n",
            "\u001b[1m625/625\u001b[0m \u001b[32m━━━━━━━━━━━━━━━━━━━━\u001b[0m\u001b[37m\u001b[0m \u001b[1m22s\u001b[0m 35ms/step - coarse_output_accuracy: 0.2994 - fine_output_accuracy: 0.1525 - loss: 5.8162 - val_coarse_output_accuracy: 0.3147 - val_fine_output_accuracy: 0.1711 - val_loss: 5.7491 - learning_rate: 0.0010\n",
            "Epoch 6/20\n",
            "\u001b[1m625/625\u001b[0m \u001b[32m━━━━━━━━━━━━━━━━━━━━\u001b[0m\u001b[37m\u001b[0m \u001b[1m0s\u001b[0m 32ms/step - coarse_output_accuracy: 0.3196 - fine_output_accuracy: 0.1672 - loss: 5.6721{'coarse_output_accuracy': 0.31632500886917114, 'fine_output_accuracy': 0.16532500088214874, 'loss': 5.697872638702393, 'val_coarse_output_accuracy': 0.31310001015663147, 'val_fine_output_accuracy': 0.16590000689029694, 'val_loss': 5.718334674835205}\n",
            "\u001b[1m625/625\u001b[0m \u001b[32m━━━━━━━━━━━━━━━━━━━━\u001b[0m\u001b[37m\u001b[0m \u001b[1m21s\u001b[0m 34ms/step - coarse_output_accuracy: 0.3196 - fine_output_accuracy: 0.1672 - loss: 5.6721 - val_coarse_output_accuracy: 0.3131 - val_fine_output_accuracy: 0.1659 - val_loss: 5.7183 - learning_rate: 0.0010\n",
            "Epoch 7/20\n",
            "\u001b[1m625/625\u001b[0m \u001b[32m━━━━━━━━━━━━━━━━━━━━\u001b[0m\u001b[37m\u001b[0m \u001b[1m0s\u001b[0m 40ms/step - coarse_output_accuracy: 0.3313 - fine_output_accuracy: 0.1746 - loss: 5.5674{'coarse_output_accuracy': 0.3278749883174896, 'fine_output_accuracy': 0.1740500032901764, 'loss': 5.5968241691589355, 'val_coarse_output_accuracy': 0.3237999975681305, 'val_fine_output_accuracy': 0.18150000274181366, 'val_loss': 5.634831428527832}\n",
            "\u001b[1m625/625\u001b[0m \u001b[32m━━━━━━━━━━━━━━━━━━━━\u001b[0m\u001b[37m\u001b[0m \u001b[1m50s\u001b[0m 48ms/step - coarse_output_accuracy: 0.3313 - fine_output_accuracy: 0.1746 - loss: 5.5674 - val_coarse_output_accuracy: 0.3238 - val_fine_output_accuracy: 0.1815 - val_loss: 5.6348 - learning_rate: 0.0010\n",
            "Epoch 8/20\n",
            "\u001b[1m625/625\u001b[0m \u001b[32m━━━━━━━━━━━━━━━━━━━━\u001b[0m\u001b[37m\u001b[0m \u001b[1m0s\u001b[0m 34ms/step - coarse_output_accuracy: 0.3420 - fine_output_accuracy: 0.1861 - loss: 5.4704{'coarse_output_accuracy': 0.34002500772476196, 'fine_output_accuracy': 0.1836249977350235, 'loss': 5.50825309753418, 'val_coarse_output_accuracy': 0.33239999413490295, 'val_fine_output_accuracy': 0.1931000053882599, 'val_loss': 5.590708255767822}\n",
            "\u001b[1m625/625\u001b[0m \u001b[32m━━━━━━━━━━━━━━━━━━━━\u001b[0m\u001b[37m\u001b[0m \u001b[1m34s\u001b[0m 36ms/step - coarse_output_accuracy: 0.3420 - fine_output_accuracy: 0.1861 - loss: 5.4705 - val_coarse_output_accuracy: 0.3324 - val_fine_output_accuracy: 0.1931 - val_loss: 5.5907 - learning_rate: 0.0010\n",
            "Epoch 9/20\n",
            "\u001b[1m625/625\u001b[0m \u001b[32m━━━━━━━━━━━━━━━━━━━━\u001b[0m\u001b[37m\u001b[0m \u001b[1m0s\u001b[0m 32ms/step - coarse_output_accuracy: 0.3514 - fine_output_accuracy: 0.1952 - loss: 5.4264{'coarse_output_accuracy': 0.346574991941452, 'fine_output_accuracy': 0.19177499413490295, 'loss': 5.45395040512085, 'val_coarse_output_accuracy': 0.33550000190734863, 'val_fine_output_accuracy': 0.19099999964237213, 'val_loss': 5.5631513595581055}\n",
            "\u001b[1m625/625\u001b[0m \u001b[32m━━━━━━━━━━━━━━━━━━━━\u001b[0m\u001b[37m\u001b[0m \u001b[1m41s\u001b[0m 36ms/step - coarse_output_accuracy: 0.3514 - fine_output_accuracy: 0.1952 - loss: 5.4264 - val_coarse_output_accuracy: 0.3355 - val_fine_output_accuracy: 0.1910 - val_loss: 5.5632 - learning_rate: 0.0010\n",
            "Epoch 10/20\n",
            "\u001b[1m624/625\u001b[0m \u001b[32m━━━━━━━━━━━━━━━━━━━\u001b[0m\u001b[37m━\u001b[0m \u001b[1m0s\u001b[0m 31ms/step - coarse_output_accuracy: 0.3618 - fine_output_accuracy: 0.2032 - loss: 5.3088{'coarse_output_accuracy': 0.3548249900341034, 'fine_output_accuracy': 0.19802500307559967, 'loss': 5.356417179107666, 'val_coarse_output_accuracy': 0.3402000069618225, 'val_fine_output_accuracy': 0.19609999656677246, 'val_loss': 5.577352523803711}\n",
            "\u001b[1m625/625\u001b[0m \u001b[32m━━━━━━━━━━━━━━━━━━━━\u001b[0m\u001b[37m\u001b[0m \u001b[1m40s\u001b[0m 34ms/step - coarse_output_accuracy: 0.3618 - fine_output_accuracy: 0.2032 - loss: 5.3089 - val_coarse_output_accuracy: 0.3402 - val_fine_output_accuracy: 0.1961 - val_loss: 5.5774 - learning_rate: 0.0010\n",
            "Epoch 11/20\n",
            "\u001b[1m625/625\u001b[0m \u001b[32m━━━━━━━━━━━━━━━━━━━━\u001b[0m\u001b[37m\u001b[0m \u001b[1m0s\u001b[0m 31ms/step - coarse_output_accuracy: 0.3680 - fine_output_accuracy: 0.2077 - loss: 5.2742{'coarse_output_accuracy': 0.36442500352859497, 'fine_output_accuracy': 0.20399999618530273, 'loss': 5.2996439933776855, 'val_coarse_output_accuracy': 0.3379000127315521, 'val_fine_output_accuracy': 0.1996999979019165, 'val_loss': 5.532022476196289}\n",
            "\u001b[1m625/625\u001b[0m \u001b[32m━━━━━━━━━━━━━━━━━━━━\u001b[0m\u001b[37m\u001b[0m \u001b[1m41s\u001b[0m 34ms/step - coarse_output_accuracy: 0.3680 - fine_output_accuracy: 0.2077 - loss: 5.2742 - val_coarse_output_accuracy: 0.3379 - val_fine_output_accuracy: 0.1997 - val_loss: 5.5320 - learning_rate: 0.0010\n",
            "Epoch 12/20\n",
            "\u001b[1m624/625\u001b[0m \u001b[32m━━━━━━━━━━━━━━━━━━━\u001b[0m\u001b[37m━\u001b[0m \u001b[1m0s\u001b[0m 32ms/step - coarse_output_accuracy: 0.3749 - fine_output_accuracy: 0.2120 - loss: 5.1817{'coarse_output_accuracy': 0.3720250129699707, 'fine_output_accuracy': 0.20937499403953552, 'loss': 5.231290817260742, 'val_coarse_output_accuracy': 0.3416999876499176, 'val_fine_output_accuracy': 0.20069999992847443, 'val_loss': 5.530981063842773}\n",
            "\u001b[1m625/625\u001b[0m \u001b[32m━━━━━━━━━━━━━━━━━━━━\u001b[0m\u001b[37m\u001b[0m \u001b[1m23s\u001b[0m 37ms/step - coarse_output_accuracy: 0.3749 - fine_output_accuracy: 0.2120 - loss: 5.1818 - val_coarse_output_accuracy: 0.3417 - val_fine_output_accuracy: 0.2007 - val_loss: 5.5310 - learning_rate: 0.0010\n",
            "Epoch 13/20\n",
            "\u001b[1m624/625\u001b[0m \u001b[32m━━━━━━━━━━━━━━━━━━━\u001b[0m\u001b[37m━\u001b[0m \u001b[1m0s\u001b[0m 35ms/step - coarse_output_accuracy: 0.3851 - fine_output_accuracy: 0.2210 - loss: 5.1218{'coarse_output_accuracy': 0.37687501311302185, 'fine_output_accuracy': 0.21649999916553497, 'loss': 5.183138847351074, 'val_coarse_output_accuracy': 0.33809998631477356, 'val_fine_output_accuracy': 0.193900004029274, 'val_loss': 5.5426130294799805}\n",
            "\u001b[1m625/625\u001b[0m \u001b[32m━━━━━━━━━━━━━━━━━━━━\u001b[0m\u001b[37m\u001b[0m \u001b[1m43s\u001b[0m 39ms/step - coarse_output_accuracy: 0.3851 - fine_output_accuracy: 0.2210 - loss: 5.1220 - val_coarse_output_accuracy: 0.3381 - val_fine_output_accuracy: 0.1939 - val_loss: 5.5426 - learning_rate: 0.0010\n",
            "Epoch 14/20\n",
            "\u001b[1m625/625\u001b[0m \u001b[32m━━━━━━━━━━━━━━━━━━━━\u001b[0m\u001b[37m\u001b[0m \u001b[1m0s\u001b[0m 32ms/step - coarse_output_accuracy: 0.3860 - fine_output_accuracy: 0.2201 - loss: 5.1028{'coarse_output_accuracy': 0.38635000586509705, 'fine_output_accuracy': 0.22030000388622284, 'loss': 5.113360404968262, 'val_coarse_output_accuracy': 0.3472000062465668, 'val_fine_output_accuracy': 0.2094999998807907, 'val_loss': 5.487466335296631}\n",
            "\u001b[1m625/625\u001b[0m \u001b[32m━━━━━━━━━━━━━━━━━━━━\u001b[0m\u001b[37m\u001b[0m \u001b[1m38s\u001b[0m 34ms/step - coarse_output_accuracy: 0.3860 - fine_output_accuracy: 0.2201 - loss: 5.1028 - val_coarse_output_accuracy: 0.3472 - val_fine_output_accuracy: 0.2095 - val_loss: 5.4875 - learning_rate: 0.0010\n",
            "Epoch 15/20\n",
            "\u001b[1m624/625\u001b[0m \u001b[32m━━━━━━━━━━━━━━━━━━━\u001b[0m\u001b[37m━\u001b[0m \u001b[1m0s\u001b[0m 32ms/step - coarse_output_accuracy: 0.3931 - fine_output_accuracy: 0.2286 - loss: 5.0295{'coarse_output_accuracy': 0.39250001311302185, 'fine_output_accuracy': 0.22692500054836273, 'loss': 5.059073448181152, 'val_coarse_output_accuracy': 0.35429999232292175, 'val_fine_output_accuracy': 0.210099995136261, 'val_loss': 5.478176593780518}\n",
            "\u001b[1m625/625\u001b[0m \u001b[32m━━━━━━━━━━━━━━━━━━━━\u001b[0m\u001b[37m\u001b[0m \u001b[1m42s\u001b[0m 36ms/step - coarse_output_accuracy: 0.3931 - fine_output_accuracy: 0.2286 - loss: 5.0296 - val_coarse_output_accuracy: 0.3543 - val_fine_output_accuracy: 0.2101 - val_loss: 5.4782 - learning_rate: 0.0010\n",
            "Epoch 16/20\n",
            "\u001b[1m624/625\u001b[0m \u001b[32m━━━━━━━━━━━━━━━━━━━\u001b[0m\u001b[37m━\u001b[0m \u001b[1m0s\u001b[0m 32ms/step - coarse_output_accuracy: 0.4016 - fine_output_accuracy: 0.2357 - loss: 4.9670{'coarse_output_accuracy': 0.39777499437332153, 'fine_output_accuracy': 0.23145000636577606, 'loss': 5.018877029418945, 'val_coarse_output_accuracy': 0.35010001063346863, 'val_fine_output_accuracy': 0.21119999885559082, 'val_loss': 5.501328945159912}\n",
            "\u001b[1m625/625\u001b[0m \u001b[32m━━━━━━━━━━━━━━━━━━━━\u001b[0m\u001b[37m\u001b[0m \u001b[1m39s\u001b[0m 34ms/step - coarse_output_accuracy: 0.4016 - fine_output_accuracy: 0.2357 - loss: 4.9672 - val_coarse_output_accuracy: 0.3501 - val_fine_output_accuracy: 0.2112 - val_loss: 5.5013 - learning_rate: 0.0010\n",
            "Epoch 17/20\n",
            "\u001b[1m624/625\u001b[0m \u001b[32m━━━━━━━━━━━━━━━━━━━\u001b[0m\u001b[37m━\u001b[0m \u001b[1m0s\u001b[0m 33ms/step - coarse_output_accuracy: 0.4050 - fine_output_accuracy: 0.2377 - loss: 4.9460{'coarse_output_accuracy': 0.4038499891757965, 'fine_output_accuracy': 0.23524999618530273, 'loss': 4.96816349029541, 'val_coarse_output_accuracy': 0.3513999879360199, 'val_fine_output_accuracy': 0.20759999752044678, 'val_loss': 5.487396717071533}\n",
            "\u001b[1m625/625\u001b[0m \u001b[32m━━━━━━━━━━━━━━━━━━━━\u001b[0m\u001b[37m\u001b[0m \u001b[1m23s\u001b[0m 37ms/step - coarse_output_accuracy: 0.4050 - fine_output_accuracy: 0.2377 - loss: 4.9460 - val_coarse_output_accuracy: 0.3514 - val_fine_output_accuracy: 0.2076 - val_loss: 5.4874 - learning_rate: 0.0010\n",
            "Epoch 18/20\n",
            "\u001b[1m625/625\u001b[0m \u001b[32m━━━━━━━━━━━━━━━━━━━━\u001b[0m\u001b[37m\u001b[0m \u001b[1m0s\u001b[0m 35ms/step - coarse_output_accuracy: 0.4145 - fine_output_accuracy: 0.2388 - loss: 4.9168{'coarse_output_accuracy': 0.4112499952316284, 'fine_output_accuracy': 0.2414499968290329, 'loss': 4.924300193786621, 'val_coarse_output_accuracy': 0.35019999742507935, 'val_fine_output_accuracy': 0.21279999613761902, 'val_loss': 5.491016387939453}\n",
            "\u001b[1m625/625\u001b[0m \u001b[32m━━━━━━━━━━━━━━━━━━━━\u001b[0m\u001b[37m\u001b[0m \u001b[1m42s\u001b[0m 39ms/step - coarse_output_accuracy: 0.4144 - fine_output_accuracy: 0.2388 - loss: 4.9168 - val_coarse_output_accuracy: 0.3502 - val_fine_output_accuracy: 0.2128 - val_loss: 5.4910 - learning_rate: 0.0010\n",
            "Epoch 19/20\n",
            "\u001b[1m624/625\u001b[0m \u001b[32m━━━━━━━━━━━━━━━━━━━\u001b[0m\u001b[37m━\u001b[0m \u001b[1m0s\u001b[0m 32ms/step - coarse_output_accuracy: 0.4161 - fine_output_accuracy: 0.2471 - loss: 4.8542{'coarse_output_accuracy': 0.4155749976634979, 'fine_output_accuracy': 0.2455500066280365, 'loss': 4.869810104370117, 'val_coarse_output_accuracy': 0.34869998693466187, 'val_fine_output_accuracy': 0.21050000190734863, 'val_loss': 5.51479434967041}\n",
            "\u001b[1m625/625\u001b[0m \u001b[32m━━━━━━━━━━━━━━━━━━━━\u001b[0m\u001b[37m\u001b[0m \u001b[1m38s\u001b[0m 34ms/step - coarse_output_accuracy: 0.4161 - fine_output_accuracy: 0.2471 - loss: 4.8543 - val_coarse_output_accuracy: 0.3487 - val_fine_output_accuracy: 0.2105 - val_loss: 5.5148 - learning_rate: 0.0010\n",
            "Epoch 20/20\n",
            "\u001b[1m625/625\u001b[0m \u001b[32m━━━━━━━━━━━━━━━━━━━━\u001b[0m\u001b[37m\u001b[0m \u001b[1m0s\u001b[0m 34ms/step - coarse_output_accuracy: 0.4264 - fine_output_accuracy: 0.2494 - loss: 4.7976{'coarse_output_accuracy': 0.4231500029563904, 'fine_output_accuracy': 0.24735000729560852, 'loss': 4.821014404296875, 'val_coarse_output_accuracy': 0.35519999265670776, 'val_fine_output_accuracy': 0.21080000698566437, 'val_loss': 5.474265098571777}\n",
            "\u001b[1m625/625\u001b[0m \u001b[32m━━━━━━━━━━━━━━━━━━━━\u001b[0m\u001b[37m\u001b[0m \u001b[1m23s\u001b[0m 37ms/step - coarse_output_accuracy: 0.4264 - fine_output_accuracy: 0.2493 - loss: 4.7976 - val_coarse_output_accuracy: 0.3552 - val_fine_output_accuracy: 0.2108 - val_loss: 5.4743 - learning_rate: 0.0010\n"
          ]
        }
      ],
      "source": [
        "#x_train_own, x_val_own, y_train_own, y_val_own = train_test_split(x_train, y_train_union, test_size=0.2, stratify=y_train_union)\n",
        "# ESTE ES CON EARLY STOP Y ReduceLROnPlateau. SAQUE EL EARLY STOP Y ME DIO MUCHO MEJOR\n",
        "history = model.fit(\n",
        "    x = x_train_own,\n",
        "    y = {'fine_output': lista, 'coarse_output': y_train_own[:,1]},\n",
        "    epochs = 20,\n",
        "    batch_size = 64,\n",
        "    validation_data = (x_val_own, {'fine_output': y_val_own[:,0], 'coarse_output': y_val_own[:,1]}),\n",
        "    # Add the following line:\n",
        "    callbacks=[tf.keras.callbacks.LambdaCallback(on_epoch_end=lambda epoch, logs: print(logs if logs is not None else \"No logs available\")), rlrop,\n",
        "    mc]\n",
        "\n",
        ")"
      ]
    }
  ],
  "metadata": {
    "colab": {
      "provenance": []
    },
    "kernelspec": {
      "display_name": "venv_rn_01",
      "language": "python",
      "name": "python3"
    },
    "language_info": {
      "codemirror_mode": {
        "name": "ipython",
        "version": 3
      },
      "file_extension": ".py",
      "mimetype": "text/x-python",
      "name": "python",
      "nbconvert_exporter": "python",
      "pygments_lexer": "ipython3",
      "version": "3.10.13"
    }
  },
  "nbformat": 4,
  "nbformat_minor": 0
}
