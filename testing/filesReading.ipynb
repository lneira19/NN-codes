{
 "cells": [
  {
   "cell_type": "code",
   "execution_count": 17,
   "metadata": {},
   "outputs": [],
   "source": [
    "import numpy as np\n",
    "import os\n",
    "import pickle\n",
    "import matplotlib.pyplot as plt"
   ]
  },
  {
   "cell_type": "code",
   "execution_count": 18,
   "metadata": {},
   "outputs": [
    {
     "name": "stdout",
     "output_type": "stream",
     "text": [
      "['coarse_label_names.pck', 'fine_label_names.pck', 'x_test.npy', 'x_train.npy', 'y_train_coarse.npy', 'y_train_fine.npy']\n"
     ]
    }
   ],
   "source": [
    "data_folder_name = 'dl-itba-cifar-100-2024-q-1'\n",
    "\n",
    "def getFileNames(folder_name):\n",
    "    \n",
    "    path = os.path.join(os.getcwd(),'..','..',folder_name)\n",
    "    file_names = os.listdir(path)\n",
    "\n",
    "    return file_names \n",
    "\n",
    "print(getFileNames(data_folder_name))"
   ]
  },
  {
   "cell_type": "code",
   "execution_count": 19,
   "metadata": {},
   "outputs": [
    {
     "name": "stdout",
     "output_type": "stream",
     "text": [
      "Dimensiones de los datos:\n",
      "(10000, 32, 32, 3)\n",
      "(50000, 32, 32, 3)\n",
      "(50000,)\n",
      "(50000,)\n",
      "Cantidad de clases:\n",
      "(20,)\n",
      "(100,)\n"
     ]
    }
   ],
   "source": [
    "file_names = getFileNames(data_folder_name)\n",
    "\n",
    "# Lectura de archivos '.npy' \n",
    "\n",
    "x_test = np.load('../'+'../'+data_folder_name+'/'+file_names[2])\n",
    "x_train = np.load('../'+'../'+data_folder_name+'/'+file_names[3])\n",
    "y_train_coarse = np.load('../'+'../'+data_folder_name+'/'+file_names[4])\n",
    "y_train_fine = np.load('../'+'../'+data_folder_name+'/'+file_names[5])\n",
    "\n",
    "# Lectura de archivos '.pck'\n",
    "\n",
    "with open('../'+'../'+data_folder_name+'/'+file_names[0], \"rb\") as f:\n",
    "    coarse_label_names = pickle.load(f)\n",
    "f.close()\n",
    "\n",
    "with open('../'+'../'+data_folder_name+'/'+file_names[1], \"rb\") as f:\n",
    "    fine_label_names = pickle.load(f)\n",
    "f.close()\n",
    "\n",
    "print('Dimensiones de los datos:')\n",
    "print(x_test.shape)\n",
    "print(x_train.shape)\n",
    "print(y_train_coarse.shape)\n",
    "print(y_train_fine.shape)\n",
    "\n",
    "print('Cantidad de clases:')\n",
    "print(np.shape(coarse_label_names))\n",
    "print(np.shape(fine_label_names))"
   ]
  }
 ],
 "metadata": {
  "kernelspec": {
   "display_name": "venv_rn_01",
   "language": "python",
   "name": "python3"
  },
  "language_info": {
   "codemirror_mode": {
    "name": "ipython",
    "version": 3
   },
   "file_extension": ".py",
   "mimetype": "text/x-python",
   "name": "python",
   "nbconvert_exporter": "python",
   "pygments_lexer": "ipython3",
   "version": "3.10.13"
  }
 },
 "nbformat": 4,
 "nbformat_minor": 2
}
