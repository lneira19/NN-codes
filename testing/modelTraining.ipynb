{
 "cells": [
  {
   "cell_type": "code",
   "execution_count": 1,
   "metadata": {},
   "outputs": [],
   "source": [
    "# Librerías generales\n",
    "\n",
    "import numpy as np\n",
    "import os\n",
    "import pickle\n",
    "import matplotlib.pyplot as plt"
   ]
  },
  {
   "cell_type": "markdown",
   "metadata": {},
   "source": [
    "### Lectura de datos"
   ]
  },
  {
   "cell_type": "code",
   "execution_count": 2,
   "metadata": {},
   "outputs": [
    {
     "name": "stdout",
     "output_type": "stream",
     "text": [
      "['x_sub_train_aug.npy', 'x_sub_val.npy', 'y_sub_train_aug_0.npy', 'y_sub_train_aug_1.npy', 'y_sub_val_0.npy', 'y_sub_val_1.npy']\n"
     ]
    }
   ],
   "source": [
    "data_folder_name = 'dataSelected'\n",
    "\n",
    "def getFileNames(folder_name):\n",
    "    \n",
    "    path = os.path.join(os.getcwd(),'..','..',folder_name)\n",
    "    file_names = os.listdir(path)\n",
    "\n",
    "    return file_names \n",
    "\n",
    "print(getFileNames(data_folder_name))"
   ]
  },
  {
   "cell_type": "code",
   "execution_count": 3,
   "metadata": {},
   "outputs": [
    {
     "name": "stdout",
     "output_type": "stream",
     "text": [
      "Dimensiones de los datos:\n",
      "(10000, 32, 32, 3)\n",
      "(1040000, 32, 32, 3)\n",
      "(1040000,)\n",
      "(1040000,)\n",
      "Cantidad de clases:\n",
      "(20,)\n",
      "(100,)\n"
     ]
    }
   ],
   "source": [
    "file_names = getFileNames(data_folder_name)\n",
    "\n",
    "# Lectura de archivos '.npy' \n",
    "\n",
    "x_test = np.load('../'+'../'+data_folder_name+'/'+'x_sub_val.npy')\n",
    "x_train = np.load('../'+'../'+data_folder_name+'/'+'x_sub_train_aug.npy')\n",
    "\n",
    "y_train_coarse = np.load('../'+'../'+data_folder_name+'/'+'y_sub_train_aug_1.npy')\n",
    "y_train_fine = np.load('../'+'../'+data_folder_name+'/'+'y_sub_train_aug_0.npy')\n",
    "\n",
    "y_test_coarse = np.load('../'+'../'+data_folder_name+'/'+'y_sub_val_1.npy')\n",
    "y_test_fine = np.load('../'+'../'+data_folder_name+'/'+'y_sub_val_0.npy')\n",
    "\n",
    "# Lectura de archivos '.pck'\n",
    "\n",
    "with open('../'+'../'+'dl-itba-cifar-100-2024-q-1'+'/'+'coarse_label_names.pck', \"rb\") as f:\n",
    "    coarse_label_names = pickle.load(f)\n",
    "f.close()\n",
    "\n",
    "with open('../'+'../'+'dl-itba-cifar-100-2024-q-1'+'/'+'fine_label_names.pck', \"rb\") as f:\n",
    "    fine_label_names = pickle.load(f)\n",
    "f.close()\n",
    "\n",
    "print('Dimensiones de los datos:')\n",
    "print(x_test.shape)\n",
    "print(x_train.shape)\n",
    "print(y_train_coarse.shape)\n",
    "print(y_train_fine.shape)\n",
    "\n",
    "print('Cantidad de clases:')\n",
    "print(np.shape(coarse_label_names))\n",
    "print(np.shape(fine_label_names))"
   ]
  },
  {
   "cell_type": "markdown",
   "metadata": {},
   "source": [
    "### Armado del modelo"
   ]
  },
  {
   "cell_type": "code",
   "execution_count": 4,
   "metadata": {},
   "outputs": [],
   "source": [
    "from keras.layers import Input, Dense, Dropout, Flatten, LayerNormalization\n",
    "from keras.models import Model\n",
    "from keras.regularizers import l2"
   ]
  },
  {
   "cell_type": "code",
   "execution_count": 5,
   "metadata": {},
   "outputs": [
    {
     "data": {
      "text/html": [
       "<pre style=\"white-space:pre;overflow-x:auto;line-height:normal;font-family:Menlo,'DejaVu Sans Mono',consolas,'Courier New',monospace\"><span style=\"font-weight: bold\">Model: \"functional\"</span>\n",
       "</pre>\n"
      ],
      "text/plain": [
       "\u001b[1mModel: \"functional\"\u001b[0m\n"
      ]
     },
     "metadata": {},
     "output_type": "display_data"
    },
    {
     "data": {
      "text/html": [
       "<pre style=\"white-space:pre;overflow-x:auto;line-height:normal;font-family:Menlo,'DejaVu Sans Mono',consolas,'Courier New',monospace\">┏━━━━━━━━━━━━━━━━━━━━━━━━━━━━━━━━━┳━━━━━━━━━━━━━━━━━━━━━━━━┳━━━━━━━━━━━━━━━┓\n",
       "┃<span style=\"font-weight: bold\"> Layer (type)                    </span>┃<span style=\"font-weight: bold\"> Output Shape           </span>┃<span style=\"font-weight: bold\">       Param # </span>┃\n",
       "┡━━━━━━━━━━━━━━━━━━━━━━━━━━━━━━━━━╇━━━━━━━━━━━━━━━━━━━━━━━━╇━━━━━━━━━━━━━━━┩\n",
       "│ matrix_input (<span style=\"color: #0087ff; text-decoration-color: #0087ff\">InputLayer</span>)       │ (<span style=\"color: #00d7ff; text-decoration-color: #00d7ff\">None</span>, <span style=\"color: #00af00; text-decoration-color: #00af00\">32</span>, <span style=\"color: #00af00; text-decoration-color: #00af00\">32</span>, <span style=\"color: #00af00; text-decoration-color: #00af00\">3</span>)      │             <span style=\"color: #00af00; text-decoration-color: #00af00\">0</span> │\n",
       "├─────────────────────────────────┼────────────────────────┼───────────────┤\n",
       "│ normalization_layer             │ (<span style=\"color: #00d7ff; text-decoration-color: #00d7ff\">None</span>, <span style=\"color: #00af00; text-decoration-color: #00af00\">32</span>, <span style=\"color: #00af00; text-decoration-color: #00af00\">32</span>, <span style=\"color: #00af00; text-decoration-color: #00af00\">3</span>)      │             <span style=\"color: #00af00; text-decoration-color: #00af00\">6</span> │\n",
       "│ (<span style=\"color: #0087ff; text-decoration-color: #0087ff\">LayerNormalization</span>)            │                        │               │\n",
       "├─────────────────────────────────┼────────────────────────┼───────────────┤\n",
       "│ flatten_layer (<span style=\"color: #0087ff; text-decoration-color: #0087ff\">Flatten</span>)         │ (<span style=\"color: #00d7ff; text-decoration-color: #00d7ff\">None</span>, <span style=\"color: #00af00; text-decoration-color: #00af00\">3072</span>)           │             <span style=\"color: #00af00; text-decoration-color: #00af00\">0</span> │\n",
       "├─────────────────────────────────┼────────────────────────┼───────────────┤\n",
       "│ dense_0_layer (<span style=\"color: #0087ff; text-decoration-color: #0087ff\">Dense</span>)           │ (<span style=\"color: #00d7ff; text-decoration-color: #00d7ff\">None</span>, <span style=\"color: #00af00; text-decoration-color: #00af00\">64</span>)             │       <span style=\"color: #00af00; text-decoration-color: #00af00\">196,672</span> │\n",
       "├─────────────────────────────────┼────────────────────────┼───────────────┤\n",
       "│ dense_1_layer (<span style=\"color: #0087ff; text-decoration-color: #0087ff\">Dense</span>)           │ (<span style=\"color: #00d7ff; text-decoration-color: #00d7ff\">None</span>, <span style=\"color: #00af00; text-decoration-color: #00af00\">128</span>)            │         <span style=\"color: #00af00; text-decoration-color: #00af00\">8,320</span> │\n",
       "├─────────────────────────────────┼────────────────────────┼───────────────┤\n",
       "│ dropout_1_layer (<span style=\"color: #0087ff; text-decoration-color: #0087ff\">Dropout</span>)       │ (<span style=\"color: #00d7ff; text-decoration-color: #00d7ff\">None</span>, <span style=\"color: #00af00; text-decoration-color: #00af00\">128</span>)            │             <span style=\"color: #00af00; text-decoration-color: #00af00\">0</span> │\n",
       "├─────────────────────────────────┼────────────────────────┼───────────────┤\n",
       "│ dense_2_layer (<span style=\"color: #0087ff; text-decoration-color: #0087ff\">Dense</span>)           │ (<span style=\"color: #00d7ff; text-decoration-color: #00d7ff\">None</span>, <span style=\"color: #00af00; text-decoration-color: #00af00\">256</span>)            │        <span style=\"color: #00af00; text-decoration-color: #00af00\">33,024</span> │\n",
       "├─────────────────────────────────┼────────────────────────┼───────────────┤\n",
       "│ dropout_2_layer (<span style=\"color: #0087ff; text-decoration-color: #0087ff\">Dropout</span>)       │ (<span style=\"color: #00d7ff; text-decoration-color: #00d7ff\">None</span>, <span style=\"color: #00af00; text-decoration-color: #00af00\">256</span>)            │             <span style=\"color: #00af00; text-decoration-color: #00af00\">0</span> │\n",
       "├─────────────────────────────────┼────────────────────────┼───────────────┤\n",
       "│ dense_3_layer (<span style=\"color: #0087ff; text-decoration-color: #0087ff\">Dense</span>)           │ (<span style=\"color: #00d7ff; text-decoration-color: #00d7ff\">None</span>, <span style=\"color: #00af00; text-decoration-color: #00af00\">128</span>)            │        <span style=\"color: #00af00; text-decoration-color: #00af00\">32,896</span> │\n",
       "├─────────────────────────────────┼────────────────────────┼───────────────┤\n",
       "│ dense_4_layer (<span style=\"color: #0087ff; text-decoration-color: #0087ff\">Dense</span>)           │ (<span style=\"color: #00d7ff; text-decoration-color: #00d7ff\">None</span>, <span style=\"color: #00af00; text-decoration-color: #00af00\">64</span>)             │         <span style=\"color: #00af00; text-decoration-color: #00af00\">8,256</span> │\n",
       "├─────────────────────────────────┼────────────────────────┼───────────────┤\n",
       "│ fine_output (<span style=\"color: #0087ff; text-decoration-color: #0087ff\">Dense</span>)             │ (<span style=\"color: #00d7ff; text-decoration-color: #00d7ff\">None</span>, <span style=\"color: #00af00; text-decoration-color: #00af00\">100</span>)            │         <span style=\"color: #00af00; text-decoration-color: #00af00\">6,500</span> │\n",
       "└─────────────────────────────────┴────────────────────────┴───────────────┘\n",
       "</pre>\n"
      ],
      "text/plain": [
       "┏━━━━━━━━━━━━━━━━━━━━━━━━━━━━━━━━━┳━━━━━━━━━━━━━━━━━━━━━━━━┳━━━━━━━━━━━━━━━┓\n",
       "┃\u001b[1m \u001b[0m\u001b[1mLayer (type)                   \u001b[0m\u001b[1m \u001b[0m┃\u001b[1m \u001b[0m\u001b[1mOutput Shape          \u001b[0m\u001b[1m \u001b[0m┃\u001b[1m \u001b[0m\u001b[1m      Param #\u001b[0m\u001b[1m \u001b[0m┃\n",
       "┡━━━━━━━━━━━━━━━━━━━━━━━━━━━━━━━━━╇━━━━━━━━━━━━━━━━━━━━━━━━╇━━━━━━━━━━━━━━━┩\n",
       "│ matrix_input (\u001b[38;5;33mInputLayer\u001b[0m)       │ (\u001b[38;5;45mNone\u001b[0m, \u001b[38;5;34m32\u001b[0m, \u001b[38;5;34m32\u001b[0m, \u001b[38;5;34m3\u001b[0m)      │             \u001b[38;5;34m0\u001b[0m │\n",
       "├─────────────────────────────────┼────────────────────────┼───────────────┤\n",
       "│ normalization_layer             │ (\u001b[38;5;45mNone\u001b[0m, \u001b[38;5;34m32\u001b[0m, \u001b[38;5;34m32\u001b[0m, \u001b[38;5;34m3\u001b[0m)      │             \u001b[38;5;34m6\u001b[0m │\n",
       "│ (\u001b[38;5;33mLayerNormalization\u001b[0m)            │                        │               │\n",
       "├─────────────────────────────────┼────────────────────────┼───────────────┤\n",
       "│ flatten_layer (\u001b[38;5;33mFlatten\u001b[0m)         │ (\u001b[38;5;45mNone\u001b[0m, \u001b[38;5;34m3072\u001b[0m)           │             \u001b[38;5;34m0\u001b[0m │\n",
       "├─────────────────────────────────┼────────────────────────┼───────────────┤\n",
       "│ dense_0_layer (\u001b[38;5;33mDense\u001b[0m)           │ (\u001b[38;5;45mNone\u001b[0m, \u001b[38;5;34m64\u001b[0m)             │       \u001b[38;5;34m196,672\u001b[0m │\n",
       "├─────────────────────────────────┼────────────────────────┼───────────────┤\n",
       "│ dense_1_layer (\u001b[38;5;33mDense\u001b[0m)           │ (\u001b[38;5;45mNone\u001b[0m, \u001b[38;5;34m128\u001b[0m)            │         \u001b[38;5;34m8,320\u001b[0m │\n",
       "├─────────────────────────────────┼────────────────────────┼───────────────┤\n",
       "│ dropout_1_layer (\u001b[38;5;33mDropout\u001b[0m)       │ (\u001b[38;5;45mNone\u001b[0m, \u001b[38;5;34m128\u001b[0m)            │             \u001b[38;5;34m0\u001b[0m │\n",
       "├─────────────────────────────────┼────────────────────────┼───────────────┤\n",
       "│ dense_2_layer (\u001b[38;5;33mDense\u001b[0m)           │ (\u001b[38;5;45mNone\u001b[0m, \u001b[38;5;34m256\u001b[0m)            │        \u001b[38;5;34m33,024\u001b[0m │\n",
       "├─────────────────────────────────┼────────────────────────┼───────────────┤\n",
       "│ dropout_2_layer (\u001b[38;5;33mDropout\u001b[0m)       │ (\u001b[38;5;45mNone\u001b[0m, \u001b[38;5;34m256\u001b[0m)            │             \u001b[38;5;34m0\u001b[0m │\n",
       "├─────────────────────────────────┼────────────────────────┼───────────────┤\n",
       "│ dense_3_layer (\u001b[38;5;33mDense\u001b[0m)           │ (\u001b[38;5;45mNone\u001b[0m, \u001b[38;5;34m128\u001b[0m)            │        \u001b[38;5;34m32,896\u001b[0m │\n",
       "├─────────────────────────────────┼────────────────────────┼───────────────┤\n",
       "│ dense_4_layer (\u001b[38;5;33mDense\u001b[0m)           │ (\u001b[38;5;45mNone\u001b[0m, \u001b[38;5;34m64\u001b[0m)             │         \u001b[38;5;34m8,256\u001b[0m │\n",
       "├─────────────────────────────────┼────────────────────────┼───────────────┤\n",
       "│ fine_output (\u001b[38;5;33mDense\u001b[0m)             │ (\u001b[38;5;45mNone\u001b[0m, \u001b[38;5;34m100\u001b[0m)            │         \u001b[38;5;34m6,500\u001b[0m │\n",
       "└─────────────────────────────────┴────────────────────────┴───────────────┘\n"
      ]
     },
     "metadata": {},
     "output_type": "display_data"
    },
    {
     "data": {
      "text/html": [
       "<pre style=\"white-space:pre;overflow-x:auto;line-height:normal;font-family:Menlo,'DejaVu Sans Mono',consolas,'Courier New',monospace\"><span style=\"font-weight: bold\"> Total params: </span><span style=\"color: #00af00; text-decoration-color: #00af00\">285,674</span> (1.09 MB)\n",
       "</pre>\n"
      ],
      "text/plain": [
       "\u001b[1m Total params: \u001b[0m\u001b[38;5;34m285,674\u001b[0m (1.09 MB)\n"
      ]
     },
     "metadata": {},
     "output_type": "display_data"
    },
    {
     "data": {
      "text/html": [
       "<pre style=\"white-space:pre;overflow-x:auto;line-height:normal;font-family:Menlo,'DejaVu Sans Mono',consolas,'Courier New',monospace\"><span style=\"font-weight: bold\"> Trainable params: </span><span style=\"color: #00af00; text-decoration-color: #00af00\">285,674</span> (1.09 MB)\n",
       "</pre>\n"
      ],
      "text/plain": [
       "\u001b[1m Trainable params: \u001b[0m\u001b[38;5;34m285,674\u001b[0m (1.09 MB)\n"
      ]
     },
     "metadata": {},
     "output_type": "display_data"
    },
    {
     "data": {
      "text/html": [
       "<pre style=\"white-space:pre;overflow-x:auto;line-height:normal;font-family:Menlo,'DejaVu Sans Mono',consolas,'Courier New',monospace\"><span style=\"font-weight: bold\"> Non-trainable params: </span><span style=\"color: #00af00; text-decoration-color: #00af00\">0</span> (0.00 B)\n",
       "</pre>\n"
      ],
      "text/plain": [
       "\u001b[1m Non-trainable params: \u001b[0m\u001b[38;5;34m0\u001b[0m (0.00 B)\n"
      ]
     },
     "metadata": {},
     "output_type": "display_data"
    }
   ],
   "source": [
    "# Input layer\n",
    "input_layer = Input(shape=(32,32,3), name='matrix_input')\n",
    "\n",
    "#Normalization layer\n",
    "normalization_layer = LayerNormalization(name='normalization_layer')(input_layer)\n",
    "\n",
    "# Flatten layer\n",
    "flatten_layer = Flatten(name='flatten_layer')(normalization_layer)\n",
    "\n",
    "# Dense layer 0 - 64 units\n",
    "dense_0_layer = Dense(\n",
    "    units                   = 64,\n",
    "    activation              = 'sigmoid',\n",
    "    kernel_initializer      = 'glorot_uniform',\n",
    "    bias_initializer        = 'glorot_uniform',\n",
    "    kernel_regularizer      = None,\n",
    "    bias_regularizer        = None,\n",
    "    activity_regularizer    = None,\n",
    "    kernel_constraint       = None,\n",
    "    bias_constraint         = None,\n",
    "    lora_rank               = None,\n",
    "    name                    = 'dense_0_layer'\n",
    ")(flatten_layer)\n",
    "\n",
    "#Dense layer 1 - 128 units\n",
    "dense_1_layer = Dense(\n",
    "    units                   = 128,\n",
    "    activation              = 'tanh',\n",
    "    kernel_initializer      = 'glorot_uniform',\n",
    "    bias_initializer        = 'glorot_uniform',\n",
    "    kernel_regularizer      = None,\n",
    "    bias_regularizer        = None,\n",
    "    activity_regularizer    = None,\n",
    "    kernel_constraint       = None,\n",
    "    bias_constraint         = None,\n",
    "    lora_rank               = None,\n",
    "    name                    = 'dense_1_layer'\n",
    ")(dense_0_layer)\n",
    "\n",
    "#Droput layer 1\n",
    "dropout_1_layer = Dropout(\n",
    "    rate                    = 0.2,\n",
    "    name                    = 'dropout_1_layer'\n",
    ")(dense_1_layer)\n",
    "\n",
    "#Dense layer 2 - 256 units\n",
    "dense_2_layer = Dense(\n",
    "    units                   = 256,\n",
    "    activation              = 'relu',\n",
    "    kernel_initializer      = 'glorot_uniform',\n",
    "    bias_initializer        = 'glorot_uniform',\n",
    "    kernel_regularizer      = l2(0.01),\n",
    "    bias_regularizer        = l2(0.01),\n",
    "    activity_regularizer    = None,\n",
    "    kernel_constraint       = None,\n",
    "    bias_constraint         = None,\n",
    "    lora_rank               = None,\n",
    "    name                    = 'dense_2_layer'\n",
    ")(dropout_1_layer)\n",
    "\n",
    "#Droput layer 2\n",
    "dropout_2_layer = Dropout(\n",
    "    rate                    = 0.2,\n",
    "    name                    = 'dropout_2_layer'\n",
    ")(dense_2_layer)\n",
    "\n",
    "#Dense layer 3 - 128 units\n",
    "dense_3_layer = Dense(\n",
    "    units                   = 128,\n",
    "    activation              = 'relu',\n",
    "    kernel_initializer      = 'glorot_uniform',\n",
    "    bias_initializer        = 'glorot_uniform',\n",
    "    kernel_regularizer      = None,\n",
    "    bias_regularizer        = None,\n",
    "    activity_regularizer    = None,\n",
    "    kernel_constraint       = None,\n",
    "    bias_constraint         = None,\n",
    "    lora_rank               = None,\n",
    "    name                    = 'dense_3_layer'\n",
    ")(dropout_2_layer)\n",
    "\n",
    "#Dense layer 4 - 64 units\n",
    "dense_4_layer = Dense(\n",
    "    units                   = 64,\n",
    "    activation              = 'relu',\n",
    "    kernel_initializer      = 'glorot_uniform',\n",
    "    bias_initializer        = 'glorot_uniform',\n",
    "    kernel_regularizer      = None,\n",
    "    bias_regularizer        = None,\n",
    "    activity_regularizer    = None,\n",
    "    kernel_constraint       = None,\n",
    "    bias_constraint         = None,\n",
    "    lora_rank               = None,\n",
    "    name                    = 'dense_4_layer'\n",
    ")(dense_3_layer)\n",
    "\n",
    "#Output layer 0 - 100 units\n",
    "fine_output = Dense(\n",
    "    units                   = 100,\n",
    "    activation              = 'softmax',\n",
    "    kernel_initializer      = 'glorot_uniform',\n",
    "    bias_initializer        = 'glorot_uniform',\n",
    "    kernel_regularizer      = None,\n",
    "    bias_regularizer        = None,\n",
    "    activity_regularizer    = None,\n",
    "    kernel_constraint       = None,\n",
    "    bias_constraint         = None,\n",
    "    lora_rank               = None,\n",
    "    name                    = 'fine_output'\n",
    ")(dense_4_layer)\n",
    "\n",
    "\"\"\"#Output layer 1 - 20 units\n",
    "coarse_output = Dense(\n",
    "    units                   = 20,\n",
    "    activation              = 'softmax',\n",
    "    kernel_initializer      = 'glorot_uniform',\n",
    "    bias_initializer        = 'glorot_uniform',\n",
    "    kernel_regularizer      = None,\n",
    "    bias_regularizer        = None,\n",
    "    activity_regularizer    = None,\n",
    "    kernel_constraint       = None,\n",
    "    bias_constraint         = None,\n",
    "    lora_rank               = None,\n",
    "    name                    = 'coarse_output'\n",
    ")(dense_4_layer)\"\"\"\n",
    "\n",
    "# Defino el modelo con dos salidas\n",
    "myModel = Model(\n",
    "    inputs                  = input_layer,\n",
    "    #outputs                 = [fine_output, coarse_output]\n",
    "    outputs                 = [fine_output]\n",
    ")\n",
    "\n",
    "# Print model summary\n",
    "myModel.summary()"
   ]
  },
  {
   "cell_type": "markdown",
   "metadata": {},
   "source": [
    "### Compilación del modelo"
   ]
  },
  {
   "cell_type": "code",
   "execution_count": 6,
   "metadata": {},
   "outputs": [],
   "source": [
    "from keras.optimizers import Adam"
   ]
  },
  {
   "cell_type": "code",
   "execution_count": 7,
   "metadata": {},
   "outputs": [],
   "source": [
    "myModel.compile(\n",
    "    optimizer               = Adam(learning_rate=1e-3),\n",
    "    #loss                    = {'fine_output': 'sparse_categorical_crossentropy', 'coarse_output': 'sparse_categorical_crossentropy'},\n",
    "    loss                    = {'fine_output': 'sparse_categorical_crossentropy'},\n",
    "    loss_weights            = None,\n",
    "    #metrics                 = {'fine_output': 'categorical_accuracy', 'coarse_output': 'categorical_accuracy'},\n",
    "    metrics                 = {'fine_output': 'categorical_accuracy'},\n",
    "    weighted_metrics        = None,\n",
    "    run_eagerly             = False,\n",
    "    steps_per_execution     = 1,\n",
    "    jit_compile             = \"auto\",\n",
    "    auto_scale_loss         = True,\n",
    ")"
   ]
  },
  {
   "cell_type": "markdown",
   "metadata": {},
   "source": [
    "### Fit del modelo\n",
    "\n",
    "Primero se van a definir algunos callbacks."
   ]
  },
  {
   "cell_type": "code",
   "execution_count": 8,
   "metadata": {},
   "outputs": [],
   "source": [
    "from keras.callbacks import ReduceLROnPlateau, EarlyStopping, ModelCheckpoint, TensorBoard, LambdaCallback"
   ]
  },
  {
   "cell_type": "code",
   "execution_count": 9,
   "metadata": {},
   "outputs": [],
   "source": [
    "#AGREGUE ACA UN PAR QUE ESTABAN EN EL OTRO\n",
    "rlrop = ReduceLROnPlateau(\n",
    "    monitor                 = \"val_accuracy\",\n",
    "    factor                  = 0.2,\n",
    "    patience                = 5,\n",
    "    verbose                 = 1,\n",
    "    min_lr                  = 1e-6\n",
    ")\n",
    "\n",
    "es = EarlyStopping(\n",
    "    monitor                 = \"val_loss\",\n",
    "    patience                = 10,\n",
    "    verbose                 = 1,\n",
    "    restore_best_weights    = True\n",
    ")\n",
    "\n",
    "mc = ModelCheckpoint(\n",
    "    \"best_weights.weights.h5\",\n",
    "    monitor                 = \"val_loss\",\n",
    "    verbose                 = 1,\n",
    "    save_best_only          = True,\n",
    "    save_weights_only       = True,\n",
    ")\n",
    "\n",
    "tb = TensorBoard(\n",
    "    log_dir                 = \"logs\"\n",
    ")"
   ]
  },
  {
   "cell_type": "code",
   "execution_count": 10,
   "metadata": {},
   "outputs": [],
   "source": [
    "# Shuffle de los datos\n",
    "indexes_train   = np.arange(len(x_train))\n",
    "indexes_test    = np.arange(len(x_test))\n",
    "\n",
    "np.random.shuffle(indexes_train)\n",
    "np.random.shuffle(indexes_test)\n",
    "\n",
    "# Shuffle de datos de train\n",
    "\n",
    "x_train_dup         = x_train[indexes_train]\n",
    "y_train_coarse_dup  = y_train_coarse[indexes_train]\n",
    "y_train_fine_dup    = y_train_fine[indexes_train]\n",
    "\n",
    "# Shuffle de datos de test\n",
    "x_test_dup         = x_test[indexes_test]\n",
    "y_test_coarse_dup  = y_test_coarse[indexes_test]\n",
    "y_test_fine_dup    = y_test_fine[indexes_test]"
   ]
  },
  {
   "cell_type": "code",
   "execution_count": 21,
   "metadata": {},
   "outputs": [],
   "source": [
    "from keras.utils import to_categorical\n",
    "\n",
    "# Convertir etiquetas a formato one-hot\n",
    "y_train_fine_dup = to_categorical(y_train_fine_dup, num_classes=100)\n",
    "y_train_coarse_dup = to_categorical(y_train_coarse_dup, num_classes=20)\n",
    "\n",
    "y_test_fine_dup = to_categorical(y_test_fine_dup, num_classes=100)\n",
    "y_test_coarse_dup = to_categorical(y_test_coarse_dup, num_classes=20)"
   ]
  },
  {
   "cell_type": "code",
   "execution_count": 11,
   "metadata": {},
   "outputs": [
    {
     "name": "stdout",
     "output_type": "stream",
     "text": [
      "Epoch 1/5\n",
      "\u001b[1m16249/16250\u001b[0m \u001b[32m━━━━━━━━━━━━━━━━━━━\u001b[0m\u001b[37m━\u001b[0m \u001b[1m0s\u001b[0m 7ms/step - categorical_accuracy: 0.0098 - loss: 4.3161{'categorical_accuracy': 0.01022980734705925, 'loss': 4.227025032043457, 'val_categorical_accuracy': 0.013299999758601189, 'val_loss': 4.117843151092529}\n",
      "\u001b[1m16250/16250\u001b[0m \u001b[32m━━━━━━━━━━━━━━━━━━━━\u001b[0m\u001b[37m\u001b[0m \u001b[1m116s\u001b[0m 7ms/step - categorical_accuracy: 0.0098 - loss: 4.3161 - val_categorical_accuracy: 0.0133 - val_loss: 4.1178\n",
      "Epoch 2/5\n",
      "\u001b[1m16248/16250\u001b[0m \u001b[32m━━━━━━━━━━━━━━━━━━━\u001b[0m\u001b[37m━\u001b[0m \u001b[1m0s\u001b[0m 7ms/step - categorical_accuracy: 0.0101 - loss: 4.1572{'categorical_accuracy': 0.010146154090762138, 'loss': 4.145777225494385, 'val_categorical_accuracy': 0.012299999594688416, 'val_loss': 4.066841125488281}\n",
      "\u001b[1m16250/16250\u001b[0m \u001b[32m━━━━━━━━━━━━━━━━━━━━\u001b[0m\u001b[37m\u001b[0m \u001b[1m112s\u001b[0m 7ms/step - categorical_accuracy: 0.0101 - loss: 4.1572 - val_categorical_accuracy: 0.0123 - val_loss: 4.0668\n",
      "Epoch 3/5\n",
      "\u001b[1m16249/16250\u001b[0m \u001b[32m━━━━━━━━━━━━━━━━━━━\u001b[0m\u001b[37m━\u001b[0m \u001b[1m0s\u001b[0m 7ms/step - categorical_accuracy: 0.0098 - loss: 4.1238{'categorical_accuracy': 0.00981346145272255, 'loss': 4.120007514953613, 'val_categorical_accuracy': 0.011800000444054604, 'val_loss': 4.046487331390381}\n",
      "\u001b[1m16250/16250\u001b[0m \u001b[32m━━━━━━━━━━━━━━━━━━━━\u001b[0m\u001b[37m\u001b[0m \u001b[1m113s\u001b[0m 7ms/step - categorical_accuracy: 0.0098 - loss: 4.1238 - val_categorical_accuracy: 0.0118 - val_loss: 4.0465\n",
      "Epoch 4/5\n",
      "\u001b[1m16245/16250\u001b[0m \u001b[32m━━━━━━━━━━━━━━━━━━━\u001b[0m\u001b[37m━\u001b[0m \u001b[1m0s\u001b[0m 7ms/step - categorical_accuracy: 0.0099 - loss: 4.1038{'categorical_accuracy': 0.009717307984828949, 'loss': 4.100368022918701, 'val_categorical_accuracy': 0.011800000444054604, 'val_loss': 4.0369439125061035}\n",
      "\u001b[1m16250/16250\u001b[0m \u001b[32m━━━━━━━━━━━━━━━━━━━━\u001b[0m\u001b[37m\u001b[0m \u001b[1m142s\u001b[0m 7ms/step - categorical_accuracy: 0.0099 - loss: 4.1038 - val_categorical_accuracy: 0.0118 - val_loss: 4.0369\n",
      "Epoch 5/5\n",
      "\u001b[1m16246/16250\u001b[0m \u001b[32m━━━━━━━━━━━━━━━━━━━\u001b[0m\u001b[37m━\u001b[0m \u001b[1m0s\u001b[0m 7ms/step - categorical_accuracy: 0.0101 - loss: 4.0824{'categorical_accuracy': 0.010006730444729328, 'loss': 4.081967830657959, 'val_categorical_accuracy': 0.013100000098347664, 'val_loss': 4.0410003662109375}\n",
      "\u001b[1m16250/16250\u001b[0m \u001b[32m━━━━━━━━━━━━━━━━━━━━\u001b[0m\u001b[37m\u001b[0m \u001b[1m115s\u001b[0m 7ms/step - categorical_accuracy: 0.0101 - loss: 4.0824 - val_categorical_accuracy: 0.0131 - val_loss: 4.0410\n"
     ]
    }
   ],
   "source": [
    "history = myModel.fit(\n",
    "    x                       = x_train_dup,\n",
    "    #y                       = {'fine_output': y_train_fine_dup, 'coarse_output': y_train_coarse_dup},\n",
    "    y                       = {'fine_output': y_train_fine_dup},\n",
    "    batch_size              = 64,\n",
    "    epochs                  = 5,\n",
    "    verbose                 = \"auto\",\n",
    "    callbacks               = [LambdaCallback(on_epoch_end=lambda epoch, logs: print(logs if logs is not None else \"No logs available\"))],\n",
    "    validation_split        = 0.0,\n",
    "    #validation_data         = (x_test_dup, {'fine_output': y_test_fine_dup, 'coarse_output': y_test_coarse_dup}),\n",
    "    validation_data         = (x_test_dup, {'fine_output': y_test_fine_dup}),\n",
    "    shuffle                 = True,\n",
    "    class_weight            = None,\n",
    "    sample_weight           = None,\n",
    "    initial_epoch           = 0,\n",
    "    steps_per_epoch         = None,\n",
    "    validation_steps        = None,\n",
    "    validation_batch_size   = None,\n",
    "    validation_freq         = 1,\n",
    ")\n"
   ]
  }
 ],
 "metadata": {
  "kernelspec": {
   "display_name": "venv_rn_01",
   "language": "python",
   "name": "python3"
  },
  "language_info": {
   "codemirror_mode": {
    "name": "ipython",
    "version": 3
   },
   "file_extension": ".py",
   "mimetype": "text/x-python",
   "name": "python",
   "nbconvert_exporter": "python",
   "pygments_lexer": "ipython3",
   "version": "3.10.13"
  }
 },
 "nbformat": 4,
 "nbformat_minor": 2
}
