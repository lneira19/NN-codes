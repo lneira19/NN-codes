{
 "cells": [
  {
   "cell_type": "code",
   "execution_count": 1,
   "metadata": {},
   "outputs": [],
   "source": [
    "import numpy as np\n",
    "import os\n",
    "import pickle\n",
    "import matplotlib.pyplot as plt\n",
    "from tensorflow.keras.preprocessing.image import ImageDataGenerator\n",
    "from sklearn.model_selection import train_test_split"
   ]
  },
  {
   "cell_type": "code",
   "execution_count": 3,
   "metadata": {},
   "outputs": [
    {
     "name": "stdout",
     "output_type": "stream",
     "text": [
      "['x_sub_train_aug.npy', 'x_sub_val.npy', 'y_sub_train_aug_0.npy', 'y_sub_train_aug_1.npy', 'y_sub_val_0.npy', 'y_sub_val_1.npy']\n"
     ]
    }
   ],
   "source": [
    "data_folder_name = 'dataSelected'\n",
    "\n",
    "def getFileNames(folder_name):\n",
    "    \n",
    "    path = os.path.join(os.getcwd(),'..','..',folder_name)\n",
    "    file_names = os.listdir(path)\n",
    "\n",
    "    return file_names \n",
    "\n",
    "print(getFileNames(data_folder_name))"
   ]
  },
  {
   "cell_type": "code",
   "execution_count": 6,
   "metadata": {},
   "outputs": [
    {
     "name": "stdout",
     "output_type": "stream",
     "text": [
      "Dimensiones de los datos:\n",
      "(10000, 32, 32, 3)\n",
      "(1040000, 32, 32, 3)\n",
      "(1040000,)\n",
      "(1040000,)\n",
      "Cantidad de clases:\n",
      "(20,)\n",
      "(100,)\n"
     ]
    }
   ],
   "source": [
    "file_names = getFileNames(data_folder_name)\n",
    "\n",
    "# Lectura de archivos '.npy' \n",
    "\n",
    "x_test = np.load('../'+'../'+data_folder_name+'/'+'x_sub_val.npy')\n",
    "x_train = np.load('../'+'../'+data_folder_name+'/'+'x_sub_train_aug.npy')\n",
    "\n",
    "y_train_coarse = np.load('../'+'../'+data_folder_name+'/'+'y_sub_train_aug_0.npy')\n",
    "y_train_fine = np.load('../'+'../'+data_folder_name+'/'+'y_sub_train_aug_1.npy')\n",
    "\n",
    "y_test_coarse = np.load('../'+'../'+data_folder_name+'/'+'y_sub_val_0.npy')\n",
    "y_test_fine = np.load('../'+'../'+data_folder_name+'/'+'y_sub_val_1.npy')\n",
    "\n",
    "# Lectura de archivos '.pck'\n",
    "\n",
    "with open('../'+'../'+'dl-itba-cifar-100-2024-q-1'+'/'+'coarse_label_names.pck', \"rb\") as f:\n",
    "    coarse_label_names = pickle.load(f)\n",
    "f.close()\n",
    "\n",
    "with open('../'+'../'+'dl-itba-cifar-100-2024-q-1'+'/'+'fine_label_names.pck', \"rb\") as f:\n",
    "    fine_label_names = pickle.load(f)\n",
    "f.close()\n",
    "\n",
    "print('Dimensiones de los datos:')\n",
    "print(x_test.shape)\n",
    "print(x_train.shape)\n",
    "print(y_train_coarse.shape)\n",
    "print(y_train_fine.shape)\n",
    "\n",
    "print('Cantidad de clases:')\n",
    "print(np.shape(coarse_label_names))\n",
    "print(np.shape(fine_label_names))"
   ]
  },
  {
   "cell_type": "code",
   "execution_count": null,
   "metadata": {},
   "outputs": [],
   "source": []
  }
 ],
 "metadata": {
  "kernelspec": {
   "display_name": "venv_rn_01",
   "language": "python",
   "name": "python3"
  },
  "language_info": {
   "codemirror_mode": {
    "name": "ipython",
    "version": 3
   },
   "file_extension": ".py",
   "mimetype": "text/x-python",
   "name": "python",
   "nbconvert_exporter": "python",
   "pygments_lexer": "ipython3",
   "version": "3.10.13"
  }
 },
 "nbformat": 4,
 "nbformat_minor": 2
}
